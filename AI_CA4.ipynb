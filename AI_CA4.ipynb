{
 "cells": [
  {
   "cell_type": "markdown",
   "id": "bf02f54f",
   "metadata": {},
   "source": [
    "# AI Computer Assignment 4 (Machine Learning)\n",
    "Mohammad Saadati - \n",
    "_810198410_"
   ]
  },
  {
   "cell_type": "markdown",
   "id": "65cdf740",
   "metadata": {},
   "source": [
    "## Introduction\n",
    "In this project, the aim is to get acquainted with machine learning methods through the Sickit-Learn library."
   ]
  },
  {
   "cell_type": "markdown",
   "id": "a19e3679",
   "metadata": {},
   "source": [
    "## Phase 0: EDA and Visualization"
   ]
  },
  {
   "cell_type": "code",
   "execution_count": 1,
   "id": "57047e3c",
   "metadata": {},
   "outputs": [
    {
     "data": {
      "text/html": [
       "<div>\n",
       "<style scoped>\n",
       "    .dataframe tbody tr th:only-of-type {\n",
       "        vertical-align: middle;\n",
       "    }\n",
       "\n",
       "    .dataframe tbody tr th {\n",
       "        vertical-align: top;\n",
       "    }\n",
       "\n",
       "    .dataframe thead th {\n",
       "        text-align: right;\n",
       "    }\n",
       "</style>\n",
       "<table border=\"1\" class=\"dataframe\">\n",
       "  <thead>\n",
       "    <tr style=\"text-align: right;\">\n",
       "      <th></th>\n",
       "      <th>artist_name</th>\n",
       "      <th>track_name</th>\n",
       "      <th>popularity</th>\n",
       "      <th>acousticness</th>\n",
       "      <th>danceability</th>\n",
       "      <th>duration_ms</th>\n",
       "      <th>energy</th>\n",
       "      <th>instrumentalness</th>\n",
       "      <th>key</th>\n",
       "      <th>liveness</th>\n",
       "      <th>loudness</th>\n",
       "      <th>mode</th>\n",
       "      <th>speechiness</th>\n",
       "      <th>tempo</th>\n",
       "      <th>valence</th>\n",
       "      <th>music_genre</th>\n",
       "    </tr>\n",
       "  </thead>\n",
       "  <tbody>\n",
       "    <tr>\n",
       "      <th>0</th>\n",
       "      <td>Blockhead</td>\n",
       "      <td>Cheer up, You're Not Dead Yet</td>\n",
       "      <td>44.0</td>\n",
       "      <td>0.00621</td>\n",
       "      <td>0.711</td>\n",
       "      <td>285987.0</td>\n",
       "      <td>0.6210</td>\n",
       "      <td>0.029700</td>\n",
       "      <td>G</td>\n",
       "      <td>0.1590</td>\n",
       "      <td>-7.429</td>\n",
       "      <td>Major</td>\n",
       "      <td>0.0382</td>\n",
       "      <td>142.065</td>\n",
       "      <td>0.6070</td>\n",
       "      <td>Jazz</td>\n",
       "    </tr>\n",
       "    <tr>\n",
       "      <th>1</th>\n",
       "      <td>FloFilz</td>\n",
       "      <td>Corners</td>\n",
       "      <td>34.0</td>\n",
       "      <td>0.34700</td>\n",
       "      <td>0.729</td>\n",
       "      <td>103703.0</td>\n",
       "      <td>0.5150</td>\n",
       "      <td>0.006920</td>\n",
       "      <td>C</td>\n",
       "      <td>0.1270</td>\n",
       "      <td>-10.147</td>\n",
       "      <td>Major</td>\n",
       "      <td>0.1840</td>\n",
       "      <td>79.969</td>\n",
       "      <td>0.2870</td>\n",
       "      <td>Jazz</td>\n",
       "    </tr>\n",
       "    <tr>\n",
       "      <th>2</th>\n",
       "      <td>Bonobo</td>\n",
       "      <td>We Could Forever</td>\n",
       "      <td>51.0</td>\n",
       "      <td>0.01810</td>\n",
       "      <td>0.669</td>\n",
       "      <td>NaN</td>\n",
       "      <td>0.8850</td>\n",
       "      <td>0.880000</td>\n",
       "      <td>G</td>\n",
       "      <td>0.2650</td>\n",
       "      <td>-7.080</td>\n",
       "      <td>Minor</td>\n",
       "      <td>0.0378</td>\n",
       "      <td>NaN</td>\n",
       "      <td>0.6360</td>\n",
       "      <td>Jazz</td>\n",
       "    </tr>\n",
       "    <tr>\n",
       "      <th>3</th>\n",
       "      <td>Nils Landgren</td>\n",
       "      <td>A Child Is Born</td>\n",
       "      <td>39.0</td>\n",
       "      <td>0.91800</td>\n",
       "      <td>0.484</td>\n",
       "      <td>228733.0</td>\n",
       "      <td>0.0693</td>\n",
       "      <td>0.000069</td>\n",
       "      <td>F</td>\n",
       "      <td>0.1390</td>\n",
       "      <td>-15.542</td>\n",
       "      <td>Major</td>\n",
       "      <td>0.0346</td>\n",
       "      <td>82.707</td>\n",
       "      <td>0.2060</td>\n",
       "      <td>Jazz</td>\n",
       "    </tr>\n",
       "    <tr>\n",
       "      <th>4</th>\n",
       "      <td>Masayoshi Takanaka</td>\n",
       "      <td>Samba Pati</td>\n",
       "      <td>36.0</td>\n",
       "      <td>0.03450</td>\n",
       "      <td>0.473</td>\n",
       "      <td>342867.0</td>\n",
       "      <td>0.8230</td>\n",
       "      <td>0.446000</td>\n",
       "      <td>G</td>\n",
       "      <td>0.3060</td>\n",
       "      <td>-6.625</td>\n",
       "      <td>Major</td>\n",
       "      <td>0.0630</td>\n",
       "      <td>104.694</td>\n",
       "      <td>0.3830</td>\n",
       "      <td>Jazz</td>\n",
       "    </tr>\n",
       "    <tr>\n",
       "      <th>...</th>\n",
       "      <td>...</td>\n",
       "      <td>...</td>\n",
       "      <td>...</td>\n",
       "      <td>...</td>\n",
       "      <td>...</td>\n",
       "      <td>...</td>\n",
       "      <td>...</td>\n",
       "      <td>...</td>\n",
       "      <td>...</td>\n",
       "      <td>...</td>\n",
       "      <td>...</td>\n",
       "      <td>...</td>\n",
       "      <td>...</td>\n",
       "      <td>...</td>\n",
       "      <td>...</td>\n",
       "      <td>...</td>\n",
       "    </tr>\n",
       "    <tr>\n",
       "      <th>29995</th>\n",
       "      <td>Wolfgang Amadeus Mozart</td>\n",
       "      <td>Die Zauberflöte, K. 620: Wie stark ist nicht d...</td>\n",
       "      <td>22.0</td>\n",
       "      <td>0.91100</td>\n",
       "      <td>0.326</td>\n",
       "      <td>368640.0</td>\n",
       "      <td>0.1330</td>\n",
       "      <td>0.000000</td>\n",
       "      <td>G</td>\n",
       "      <td>0.1300</td>\n",
       "      <td>-20.493</td>\n",
       "      <td>Major</td>\n",
       "      <td>0.0557</td>\n",
       "      <td>92.090</td>\n",
       "      <td>0.2060</td>\n",
       "      <td>Classical</td>\n",
       "    </tr>\n",
       "    <tr>\n",
       "      <th>29996</th>\n",
       "      <td>New York Philharmonic</td>\n",
       "      <td>Symphony No. 2 in D Major, Op. 73: II. Adagio ...</td>\n",
       "      <td>26.0</td>\n",
       "      <td>0.96500</td>\n",
       "      <td>0.126</td>\n",
       "      <td>514213.0</td>\n",
       "      <td>0.2040</td>\n",
       "      <td>0.869000</td>\n",
       "      <td>B</td>\n",
       "      <td>0.1060</td>\n",
       "      <td>-16.474</td>\n",
       "      <td>Major</td>\n",
       "      <td>0.0395</td>\n",
       "      <td>82.437</td>\n",
       "      <td>0.0387</td>\n",
       "      <td>Classical</td>\n",
       "    </tr>\n",
       "    <tr>\n",
       "      <th>29997</th>\n",
       "      <td>Georges Bizet</td>\n",
       "      <td>Bizet: Carmen, WD 31, Act 1 Scene 4: No. 5, Ha...</td>\n",
       "      <td>54.0</td>\n",
       "      <td>0.97600</td>\n",
       "      <td>0.363</td>\n",
       "      <td>262147.0</td>\n",
       "      <td>0.1150</td>\n",
       "      <td>0.000000</td>\n",
       "      <td>D</td>\n",
       "      <td>0.0992</td>\n",
       "      <td>-17.325</td>\n",
       "      <td>Major</td>\n",
       "      <td>0.0689</td>\n",
       "      <td>NaN</td>\n",
       "      <td>0.2310</td>\n",
       "      <td>Classical</td>\n",
       "    </tr>\n",
       "    <tr>\n",
       "      <th>29998</th>\n",
       "      <td>Edvard Grieg</td>\n",
       "      <td>Peer Gynt-Suite Nr. 1, Op. 46: I. Morning</td>\n",
       "      <td>42.0</td>\n",
       "      <td>0.98500</td>\n",
       "      <td>0.123</td>\n",
       "      <td>259573.0</td>\n",
       "      <td>0.0174</td>\n",
       "      <td>0.906000</td>\n",
       "      <td>E</td>\n",
       "      <td>0.1250</td>\n",
       "      <td>-23.671</td>\n",
       "      <td>Major</td>\n",
       "      <td>0.0408</td>\n",
       "      <td>71.705</td>\n",
       "      <td>0.0352</td>\n",
       "      <td>Classical</td>\n",
       "    </tr>\n",
       "    <tr>\n",
       "      <th>29999</th>\n",
       "      <td>Johann Sebastian Bach</td>\n",
       "      <td>Suite No. 2 in B Minor, BWV 1067: VI. Menuet</td>\n",
       "      <td>36.0</td>\n",
       "      <td>0.77200</td>\n",
       "      <td>0.486</td>\n",
       "      <td>74600.0</td>\n",
       "      <td>0.1570</td>\n",
       "      <td>0.906000</td>\n",
       "      <td>G#</td>\n",
       "      <td>0.1470</td>\n",
       "      <td>-19.078</td>\n",
       "      <td>Minor</td>\n",
       "      <td>0.0375</td>\n",
       "      <td>124.737</td>\n",
       "      <td>0.6190</td>\n",
       "      <td>Classical</td>\n",
       "    </tr>\n",
       "  </tbody>\n",
       "</table>\n",
       "<p>30000 rows × 16 columns</p>\n",
       "</div>"
      ],
      "text/plain": [
       "                   artist_name  \\\n",
       "0                    Blockhead   \n",
       "1                      FloFilz   \n",
       "2                       Bonobo   \n",
       "3                Nils Landgren   \n",
       "4           Masayoshi Takanaka   \n",
       "...                        ...   \n",
       "29995  Wolfgang Amadeus Mozart   \n",
       "29996    New York Philharmonic   \n",
       "29997            Georges Bizet   \n",
       "29998             Edvard Grieg   \n",
       "29999    Johann Sebastian Bach   \n",
       "\n",
       "                                              track_name  popularity  \\\n",
       "0                          Cheer up, You're Not Dead Yet        44.0   \n",
       "1                                                Corners        34.0   \n",
       "2                                       We Could Forever        51.0   \n",
       "3                                        A Child Is Born        39.0   \n",
       "4                                             Samba Pati        36.0   \n",
       "...                                                  ...         ...   \n",
       "29995  Die Zauberflöte, K. 620: Wie stark ist nicht d...        22.0   \n",
       "29996  Symphony No. 2 in D Major, Op. 73: II. Adagio ...        26.0   \n",
       "29997  Bizet: Carmen, WD 31, Act 1 Scene 4: No. 5, Ha...        54.0   \n",
       "29998          Peer Gynt-Suite Nr. 1, Op. 46: I. Morning        42.0   \n",
       "29999       Suite No. 2 in B Minor, BWV 1067: VI. Menuet        36.0   \n",
       "\n",
       "       acousticness  danceability  duration_ms  energy  instrumentalness key  \\\n",
       "0           0.00621         0.711     285987.0  0.6210          0.029700   G   \n",
       "1           0.34700         0.729     103703.0  0.5150          0.006920   C   \n",
       "2           0.01810         0.669          NaN  0.8850          0.880000   G   \n",
       "3           0.91800         0.484     228733.0  0.0693          0.000069   F   \n",
       "4           0.03450         0.473     342867.0  0.8230          0.446000   G   \n",
       "...             ...           ...          ...     ...               ...  ..   \n",
       "29995       0.91100         0.326     368640.0  0.1330          0.000000   G   \n",
       "29996       0.96500         0.126     514213.0  0.2040          0.869000   B   \n",
       "29997       0.97600         0.363     262147.0  0.1150          0.000000   D   \n",
       "29998       0.98500         0.123     259573.0  0.0174          0.906000   E   \n",
       "29999       0.77200         0.486      74600.0  0.1570          0.906000  G#   \n",
       "\n",
       "       liveness  loudness   mode  speechiness    tempo  valence music_genre  \n",
       "0        0.1590    -7.429  Major       0.0382  142.065   0.6070        Jazz  \n",
       "1        0.1270   -10.147  Major       0.1840   79.969   0.2870        Jazz  \n",
       "2        0.2650    -7.080  Minor       0.0378      NaN   0.6360        Jazz  \n",
       "3        0.1390   -15.542  Major       0.0346   82.707   0.2060        Jazz  \n",
       "4        0.3060    -6.625  Major       0.0630  104.694   0.3830        Jazz  \n",
       "...         ...       ...    ...          ...      ...      ...         ...  \n",
       "29995    0.1300   -20.493  Major       0.0557   92.090   0.2060   Classical  \n",
       "29996    0.1060   -16.474  Major       0.0395   82.437   0.0387   Classical  \n",
       "29997    0.0992   -17.325  Major       0.0689      NaN   0.2310   Classical  \n",
       "29998    0.1250   -23.671  Major       0.0408   71.705   0.0352   Classical  \n",
       "29999    0.1470   -19.078  Minor       0.0375  124.737   0.6190   Classical  \n",
       "\n",
       "[30000 rows x 16 columns]"
      ]
     },
     "execution_count": 1,
     "metadata": {},
     "output_type": "execute_result"
    }
   ],
   "source": [
    "import pandas as pd\n",
    "import numpy as np\n",
    "import time\n",
    "import matplotlib.pyplot as plt\n",
    "import seaborn as sns\n",
    "\n",
    "dataset_df = pd.read_csv(\"./dataset.csv\")\n",
    "dataset_df "
   ]
  },
  {
   "cell_type": "markdown",
   "id": "ff7d44fd",
   "metadata": {},
   "source": [
    "### Question 1:\n",
    "The describe() function returns descriptive statistics for every column of DataFrame."
   ]
  },
  {
   "cell_type": "code",
   "execution_count": 2,
   "id": "dd97af9c",
   "metadata": {},
   "outputs": [
    {
     "data": {
      "text/html": [
       "<div>\n",
       "<style scoped>\n",
       "    .dataframe tbody tr th:only-of-type {\n",
       "        vertical-align: middle;\n",
       "    }\n",
       "\n",
       "    .dataframe tbody tr th {\n",
       "        vertical-align: top;\n",
       "    }\n",
       "\n",
       "    .dataframe thead th {\n",
       "        text-align: right;\n",
       "    }\n",
       "</style>\n",
       "<table border=\"1\" class=\"dataframe\">\n",
       "  <thead>\n",
       "    <tr style=\"text-align: right;\">\n",
       "      <th></th>\n",
       "      <th>popularity</th>\n",
       "      <th>acousticness</th>\n",
       "      <th>danceability</th>\n",
       "      <th>duration_ms</th>\n",
       "      <th>energy</th>\n",
       "      <th>instrumentalness</th>\n",
       "      <th>liveness</th>\n",
       "      <th>loudness</th>\n",
       "      <th>speechiness</th>\n",
       "      <th>tempo</th>\n",
       "      <th>valence</th>\n",
       "    </tr>\n",
       "  </thead>\n",
       "  <tbody>\n",
       "    <tr>\n",
       "      <th>count</th>\n",
       "      <td>30000.000000</td>\n",
       "      <td>30000.000000</td>\n",
       "      <td>30000.000000</td>\n",
       "      <td>2.699000e+04</td>\n",
       "      <td>30000.000000</td>\n",
       "      <td>30000.000000</td>\n",
       "      <td>30000.000000</td>\n",
       "      <td>30000.000000</td>\n",
       "      <td>30000.000000</td>\n",
       "      <td>27067.000000</td>\n",
       "      <td>30000.000000</td>\n",
       "    </tr>\n",
       "    <tr>\n",
       "      <th>mean</th>\n",
       "      <td>47.769533</td>\n",
       "      <td>0.359661</td>\n",
       "      <td>0.540929</td>\n",
       "      <td>2.466460e+05</td>\n",
       "      <td>0.556709</td>\n",
       "      <td>0.180807</td>\n",
       "      <td>0.183610</td>\n",
       "      <td>-10.079862</td>\n",
       "      <td>0.083861</td>\n",
       "      <td>117.559824</td>\n",
       "      <td>0.446563</td>\n",
       "    </tr>\n",
       "    <tr>\n",
       "      <th>std</th>\n",
       "      <td>14.512665</td>\n",
       "      <td>0.364182</td>\n",
       "      <td>0.181719</td>\n",
       "      <td>1.126005e+05</td>\n",
       "      <td>0.277856</td>\n",
       "      <td>0.329365</td>\n",
       "      <td>0.150733</td>\n",
       "      <td>6.953936</td>\n",
       "      <td>0.093366</td>\n",
       "      <td>30.719934</td>\n",
       "      <td>0.248745</td>\n",
       "    </tr>\n",
       "    <tr>\n",
       "      <th>min</th>\n",
       "      <td>0.000000</td>\n",
       "      <td>0.000001</td>\n",
       "      <td>0.059600</td>\n",
       "      <td>1.550900e+04</td>\n",
       "      <td>0.000792</td>\n",
       "      <td>0.000000</td>\n",
       "      <td>0.015700</td>\n",
       "      <td>-47.046000</td>\n",
       "      <td>0.022300</td>\n",
       "      <td>34.347000</td>\n",
       "      <td>0.000000</td>\n",
       "    </tr>\n",
       "    <tr>\n",
       "      <th>25%</th>\n",
       "      <td>39.000000</td>\n",
       "      <td>0.029600</td>\n",
       "      <td>0.423000</td>\n",
       "      <td>1.904930e+05</td>\n",
       "      <td>0.361000</td>\n",
       "      <td>0.000000</td>\n",
       "      <td>0.095800</td>\n",
       "      <td>-12.057250</td>\n",
       "      <td>0.035000</td>\n",
       "      <td>92.340000</td>\n",
       "      <td>0.243000</td>\n",
       "    </tr>\n",
       "    <tr>\n",
       "      <th>50%</th>\n",
       "      <td>49.000000</td>\n",
       "      <td>0.205000</td>\n",
       "      <td>0.553000</td>\n",
       "      <td>2.245600e+05</td>\n",
       "      <td>0.602000</td>\n",
       "      <td>0.000089</td>\n",
       "      <td>0.122000</td>\n",
       "      <td>-7.623000</td>\n",
       "      <td>0.045100</td>\n",
       "      <td>115.491000</td>\n",
       "      <td>0.435000</td>\n",
       "    </tr>\n",
       "    <tr>\n",
       "      <th>75%</th>\n",
       "      <td>57.000000</td>\n",
       "      <td>0.710000</td>\n",
       "      <td>0.671000</td>\n",
       "      <td>2.726670e+05</td>\n",
       "      <td>0.786000</td>\n",
       "      <td>0.125250</td>\n",
       "      <td>0.222000</td>\n",
       "      <td>-5.429750</td>\n",
       "      <td>0.080300</td>\n",
       "      <td>139.817500</td>\n",
       "      <td>0.639000</td>\n",
       "    </tr>\n",
       "    <tr>\n",
       "      <th>max</th>\n",
       "      <td>99.000000</td>\n",
       "      <td>0.996000</td>\n",
       "      <td>0.977000</td>\n",
       "      <td>3.195440e+06</td>\n",
       "      <td>0.998000</td>\n",
       "      <td>0.994000</td>\n",
       "      <td>0.996000</td>\n",
       "      <td>1.342000</td>\n",
       "      <td>0.941000</td>\n",
       "      <td>219.331000</td>\n",
       "      <td>0.985000</td>\n",
       "    </tr>\n",
       "  </tbody>\n",
       "</table>\n",
       "</div>"
      ],
      "text/plain": [
       "         popularity  acousticness  danceability   duration_ms        energy  \\\n",
       "count  30000.000000  30000.000000  30000.000000  2.699000e+04  30000.000000   \n",
       "mean      47.769533      0.359661      0.540929  2.466460e+05      0.556709   \n",
       "std       14.512665      0.364182      0.181719  1.126005e+05      0.277856   \n",
       "min        0.000000      0.000001      0.059600  1.550900e+04      0.000792   \n",
       "25%       39.000000      0.029600      0.423000  1.904930e+05      0.361000   \n",
       "50%       49.000000      0.205000      0.553000  2.245600e+05      0.602000   \n",
       "75%       57.000000      0.710000      0.671000  2.726670e+05      0.786000   \n",
       "max       99.000000      0.996000      0.977000  3.195440e+06      0.998000   \n",
       "\n",
       "       instrumentalness      liveness      loudness   speechiness  \\\n",
       "count      30000.000000  30000.000000  30000.000000  30000.000000   \n",
       "mean           0.180807      0.183610    -10.079862      0.083861   \n",
       "std            0.329365      0.150733      6.953936      0.093366   \n",
       "min            0.000000      0.015700    -47.046000      0.022300   \n",
       "25%            0.000000      0.095800    -12.057250      0.035000   \n",
       "50%            0.000089      0.122000     -7.623000      0.045100   \n",
       "75%            0.125250      0.222000     -5.429750      0.080300   \n",
       "max            0.994000      0.996000      1.342000      0.941000   \n",
       "\n",
       "              tempo       valence  \n",
       "count  27067.000000  30000.000000  \n",
       "mean     117.559824      0.446563  \n",
       "std       30.719934      0.248745  \n",
       "min       34.347000      0.000000  \n",
       "25%       92.340000      0.243000  \n",
       "50%      115.491000      0.435000  \n",
       "75%      139.817500      0.639000  \n",
       "max      219.331000      0.985000  "
      ]
     },
     "execution_count": 2,
     "metadata": {},
     "output_type": "execute_result"
    }
   ],
   "source": [
    "dataset_df.describe()"
   ]
  },
  {
   "cell_type": "markdown",
   "id": "8a8712db",
   "metadata": {},
   "source": [
    "The info() function returns a summary of DataFrame including data type and non-null values count of each column and also memory usage."
   ]
  },
  {
   "cell_type": "code",
   "execution_count": 3,
   "id": "bda30c13",
   "metadata": {},
   "outputs": [
    {
     "name": "stdout",
     "output_type": "stream",
     "text": [
      "<class 'pandas.core.frame.DataFrame'>\n",
      "RangeIndex: 30000 entries, 0 to 29999\n",
      "Data columns (total 16 columns):\n",
      " #   Column            Non-Null Count  Dtype  \n",
      "---  ------            --------------  -----  \n",
      " 0   artist_name       28506 non-null  object \n",
      " 1   track_name        30000 non-null  object \n",
      " 2   popularity        30000 non-null  float64\n",
      " 3   acousticness      30000 non-null  float64\n",
      " 4   danceability      30000 non-null  float64\n",
      " 5   duration_ms       26990 non-null  float64\n",
      " 6   energy            30000 non-null  float64\n",
      " 7   instrumentalness  30000 non-null  float64\n",
      " 8   key               30000 non-null  object \n",
      " 9   liveness          30000 non-null  float64\n",
      " 10  loudness          30000 non-null  float64\n",
      " 11  mode              30000 non-null  object \n",
      " 12  speechiness       30000 non-null  float64\n",
      " 13  tempo             27067 non-null  float64\n",
      " 14  valence           30000 non-null  float64\n",
      " 15  music_genre       30000 non-null  object \n",
      "dtypes: float64(11), object(5)\n",
      "memory usage: 3.7+ MB\n"
     ]
    }
   ],
   "source": [
    "dataset_df.info() "
   ]
  },
  {
   "cell_type": "markdown",
   "id": "9b227ad3",
   "metadata": {},
   "source": [
    "### Question 2:\n",
    "In this part first we use two Pandas function (isna and sum) to count number of missing values at each column."
   ]
  },
  {
   "cell_type": "code",
   "execution_count": 4,
   "id": "121825fd",
   "metadata": {
    "scrolled": true
   },
   "outputs": [
    {
     "name": "stdout",
     "output_type": "stream",
     "text": [
      "            Property  Percentage of Missing Values\n",
      "0        artist_name                      4.980000\n",
      "1         track_name                      0.000000\n",
      "2         popularity                      0.000000\n",
      "3       acousticness                      0.000000\n",
      "4       danceability                      0.000000\n",
      "5        duration_ms                     10.033333\n",
      "6             energy                      0.000000\n",
      "7   instrumentalness                      0.000000\n",
      "8                key                      0.000000\n",
      "9           liveness                      0.000000\n",
      "10          loudness                      0.000000\n",
      "11              mode                      0.000000\n",
      "12       speechiness                      0.000000\n",
      "13             tempo                      9.776667\n",
      "14           valence                      0.000000\n",
      "15       music_genre                      0.000000\n"
     ]
    }
   ],
   "source": [
    "missing_values = dataset_df.isna().sum()/len(dataset_df) * 100\n",
    "missing_values = pd.DataFrame({'Property': dataset_df.columns, 'Percentage of Missing Values': missing_values})\n",
    "missing_values.reset_index(inplace=True, drop=True)\n",
    "print(missing_values)"
   ]
  },
  {
   "cell_type": "markdown",
   "id": "aff19f5d",
   "metadata": {},
   "source": [
    "# Question 3: ???"
   ]
  },
  {
   "cell_type": "code",
   "execution_count": 5,
   "id": "971f64bd",
   "metadata": {},
   "outputs": [],
   "source": [
    "numerical_column_df = dataset_df\n",
    "non_numerical_column_df = dataset_df\n",
    "\n",
    "for column in dataset_df:\n",
    "    if dataset_df[column].dtype == \"object\":\n",
    "        numerical_column_df = numerical_column_df.drop(columns=[column])\n",
    "    else:\n",
    "        non_numerical_column_df = non_numerical_column_df.drop(columns=[column])\n",
    "\n",
    "counter = 0\n",
    "colors = ['#98f5ff', '#1cc32f', '#FF4040', '#9a34b5', '#1691a7', '#b5347e', '#e5d700', '#de6722', '#8B4513', '#C1FFC1'\n",
    "          , '#ae8b0c', '#ff796c']"
   ]
  },
  {
   "cell_type": "code",
   "execution_count": 6,
   "id": "e7c133ce",
   "metadata": {},
   "outputs": [
    {
     "data": {
      "image/png": "[encoded data removed]",
      "text/plain": [
       "<Figure size 432x288 with 1 Axes>"
      ]
     },
     "metadata": {
      "needs_background": "light"
     },
     "output_type": "display_data"
    },
    {
     "data": {
      "image/png": "[encoded data removed]",
      "text/plain": [
       "<Figure size 432x288 with 1 Axes>"
      ]
     },
     "metadata": {
      "needs_background": "light"
     },
     "output_type": "display_data"
    },
    {
     "data": {
      "image/png": "[encoded data removed]",
      "text/plain": [
       "<Figure size 432x288 with 1 Axes>"
      ]
     },
     "metadata": {
      "needs_background": "light"
     },
     "output_type": "display_data"
    }
   ],
   "source": [
    "for column in non_numerical_column_df:\n",
    "    if column != \"artist_name\" and column != \"track_name\":\n",
    "        non_numerical_column_df[column].value_counts().plot.bar(color = colors[counter % 12])\n",
    "        plt.xlabel(\"Value\") \n",
    "        plt.ylabel(\"Count\") \n",
    "        plt.title(\"Distribution of \" + column) \n",
    "        plt.show()\n",
    "        counter += 1"
   ]
  },
  {
   "cell_type": "code",
   "execution_count": 7,
   "id": "3bea9c27",
   "metadata": {},
   "outputs": [
    {
     "name": "stderr",
     "output_type": "stream",
     "text": [
      "C:\\Users\\SAADATI-PC\\anaconda3\\lib\\site-packages\\seaborn\\distributions.py:2557: FutureWarning: `distplot` is a deprecated function and will be removed in a future version. Please adapt your code to use either `displot` (a figure-level function with similar flexibility) or `histplot` (an axes-level function for histograms).\n",
      "  warnings.warn(msg, FutureWarning)\n"
     ]
    },
    {
     "data": {
      "image/png": "[encoded data removed]",
      "text/plain": [
       "<Figure size 432x288 with 1 Axes>"
      ]
     },
     "metadata": {
      "needs_background": "light"
     },
     "output_type": "display_data"
    },
    {
     "name": "stderr",
     "output_type": "stream",
     "text": [
      "C:\\Users\\SAADATI-PC\\anaconda3\\lib\\site-packages\\seaborn\\distributions.py:2557: FutureWarning: `distplot` is a deprecated function and will be removed in a future version. Please adapt your code to use either `displot` (a figure-level function with similar flexibility) or `histplot` (an axes-level function for histograms).\n",
      "  warnings.warn(msg, FutureWarning)\n"
     ]
    },
    {
     "data": {
      "image/png": "[encoded data removed]",
      "text/plain": [
       "<Figure size 432x288 with 1 Axes>"
      ]
     },
     "metadata": {
      "needs_background": "light"
     },
     "output_type": "display_data"
    },
    {
     "name": "stderr",
     "output_type": "stream",
     "text": [
      "C:\\Users\\SAADATI-PC\\anaconda3\\lib\\site-packages\\seaborn\\distributions.py:2557: FutureWarning: `distplot` is a deprecated function and will be removed in a future version. Please adapt your code to use either `displot` (a figure-level function with similar flexibility) or `histplot` (an axes-level function for histograms).\n",
      "  warnings.warn(msg, FutureWarning)\n"
     ]
    },
    {
     "data": {
      "image/png": "[encoded data removed]",
      "text/plain": [
       "<Figure size 432x288 with 1 Axes>"
      ]
     },
     "metadata": {
      "needs_background": "light"
     },
     "output_type": "display_data"
    },
    {
     "name": "stderr",
     "output_type": "stream",
     "text": [
      "C:\\Users\\SAADATI-PC\\anaconda3\\lib\\site-packages\\seaborn\\distributions.py:2557: FutureWarning: `distplot` is a deprecated function and will be removed in a future version. Please adapt your code to use either `displot` (a figure-level function with similar flexibility) or `histplot` (an axes-level function for histograms).\n",
      "  warnings.warn(msg, FutureWarning)\n"
     ]
    },
    {
     "data": {
      "image/png": "[encoded data removed]",
      "text/plain": [
       "<Figure size 432x288 with 1 Axes>"
      ]
     },
     "metadata": {
      "needs_background": "light"
     },
     "output_type": "display_data"
    },
    {
     "name": "stderr",
     "output_type": "stream",
     "text": [
      "C:\\Users\\SAADATI-PC\\anaconda3\\lib\\site-packages\\seaborn\\distributions.py:2557: FutureWarning: `distplot` is a deprecated function and will be removed in a future version. Please adapt your code to use either `displot` (a figure-level function with similar flexibility) or `histplot` (an axes-level function for histograms).\n",
      "  warnings.warn(msg, FutureWarning)\n"
     ]
    },
    {
     "data": {
      "image/png": "[encoded data removed]",
      "text/plain": [
       "<Figure size 432x288 with 1 Axes>"
      ]
     },
     "metadata": {
      "needs_background": "light"
     },
     "output_type": "display_data"
    },
    {
     "name": "stderr",
     "output_type": "stream",
     "text": [
      "C:\\Users\\SAADATI-PC\\anaconda3\\lib\\site-packages\\seaborn\\distributions.py:2557: FutureWarning: `distplot` is a deprecated function and will be removed in a future version. Please adapt your code to use either `displot` (a figure-level function with similar flexibility) or `histplot` (an axes-level function for histograms).\n",
      "  warnings.warn(msg, FutureWarning)\n"
     ]
    },
    {
     "data": {
      "image/png": "[encoded data removed]",
      "text/plain": [
       "<Figure size 432x288 with 1 Axes>"
      ]
     },
     "metadata": {
      "needs_background": "light"
     },
     "output_type": "display_data"
    },
    {
     "name": "stderr",
     "output_type": "stream",
     "text": [
      "C:\\Users\\SAADATI-PC\\anaconda3\\lib\\site-packages\\seaborn\\distributions.py:2557: FutureWarning: `distplot` is a deprecated function and will be removed in a future version. Please adapt your code to use either `displot` (a figure-level function with similar flexibility) or `histplot` (an axes-level function for histograms).\n",
      "  warnings.warn(msg, FutureWarning)\n"
     ]
    },
    {
     "data": {
      "image/png": "[encoded data removed]",
      "text/plain": [
       "<Figure size 432x288 with 1 Axes>"
      ]
     },
     "metadata": {
      "needs_background": "light"
     },
     "output_type": "display_data"
    },
    {
     "name": "stderr",
     "output_type": "stream",
     "text": [
      "C:\\Users\\SAADATI-PC\\anaconda3\\lib\\site-packages\\seaborn\\distributions.py:2557: FutureWarning: `distplot` is a deprecated function and will be removed in a future version. Please adapt your code to use either `displot` (a figure-level function with similar flexibility) or `histplot` (an axes-level function for histograms).\n",
      "  warnings.warn(msg, FutureWarning)\n"
     ]
    },
    {
     "data": {
      "image/png": "[encoded data removed]",
      "text/plain": [
       "<Figure size 432x288 with 1 Axes>"
      ]
     },
     "metadata": {
      "needs_background": "light"
     },
     "output_type": "display_data"
    },
    {
     "name": "stderr",
     "output_type": "stream",
     "text": [
      "C:\\Users\\SAADATI-PC\\anaconda3\\lib\\site-packages\\seaborn\\distributions.py:2557: FutureWarning: `distplot` is a deprecated function and will be removed in a future version. Please adapt your code to use either `displot` (a figure-level function with similar flexibility) or `histplot` (an axes-level function for histograms).\n",
      "  warnings.warn(msg, FutureWarning)\n"
     ]
    },
    {
     "data": {
      "image/png": "[encoded data removed]",
      "text/plain": [
       "<Figure size 432x288 with 1 Axes>"
      ]
     },
     "metadata": {
      "needs_background": "light"
     },
     "output_type": "display_data"
    },
    {
     "name": "stderr",
     "output_type": "stream",
     "text": [
      "C:\\Users\\SAADATI-PC\\anaconda3\\lib\\site-packages\\seaborn\\distributions.py:2557: FutureWarning: `distplot` is a deprecated function and will be removed in a future version. Please adapt your code to use either `displot` (a figure-level function with similar flexibility) or `histplot` (an axes-level function for histograms).\n",
      "  warnings.warn(msg, FutureWarning)\n"
     ]
    },
    {
     "data": {
      "image/png": "[encoded data removed]",
      "text/plain": [
       "<Figure size 432x288 with 1 Axes>"
      ]
     },
     "metadata": {
      "needs_background": "light"
     },
     "output_type": "display_data"
    },
    {
     "name": "stderr",
     "output_type": "stream",
     "text": [
      "C:\\Users\\SAADATI-PC\\anaconda3\\lib\\site-packages\\seaborn\\distributions.py:2557: FutureWarning: `distplot` is a deprecated function and will be removed in a future version. Please adapt your code to use either `displot` (a figure-level function with similar flexibility) or `histplot` (an axes-level function for histograms).\n",
      "  warnings.warn(msg, FutureWarning)\n"
     ]
    },
    {
     "data": {
      "image/png": "[encoded data removed]",
      "text/plain": [
       "<Figure size 432x288 with 1 Axes>"
      ]
     },
     "metadata": {
      "needs_background": "light"
     },
     "output_type": "display_data"
    }
   ],
   "source": [
    "for column in numerical_column_df:\n",
    "    ax = sns.distplot(numerical_column_df[column], hist=True, color= colors[counter % 12])\n",
    "    plt.xlabel(\"Value\") \n",
    "    plt.ylabel(\"Count\") \n",
    "    plt.title(\"Distribution of \" + column) \n",
    "    plt.show() \n",
    "    counter += 1"
   ]
  },
  {
   "cell_type": "markdown",
   "id": "17a048eb",
   "metadata": {},
   "source": [
    "## Phase 1: Preprocessing"
   ]
  },
  {
   "cell_type": "markdown",
   "id": "3bd4ce62",
   "metadata": {},
   "source": [
    "### Question 1:\n",
    "Missing values handling methods:\n",
    "* <b>Dropping Columns:</b> In this approach we drop columns with missing values. This method is advised only when there are enough samples in the data set. The problem with this approach is that we lose useful data which will not give the expected results while predicting the output, but it may be effective when most data in a column is missing.  Removing the data will lead to loss of information which will not give the expected results while predicting the output.\n",
    "\n",
    "* <b>Replacing with Mean or Median or Mode:</b> In this method we fill missing values with mean/median/mode of the column. This strategy can be applied on an attribute which has numeric data. We can calculate the mean, median or mode of the attribute and replace it with the missing values. The choice to whether use mean or median depends on the domain, outliers influence mean to change a lot but they don't have much influence on median.The problem with using this approach is that we can't use it on categorical data and it may not be always effecient.\n",
    "\n"
   ]
  },
  {
   "cell_type": "markdown",
   "id": "ec849163",
   "metadata": {},
   "source": [
    "### Question 2"
   ]
  },
  {
   "cell_type": "code",
   "execution_count": 8,
   "id": "08283cdc",
   "metadata": {},
   "outputs": [
    {
     "name": "stdout",
     "output_type": "stream",
     "text": [
      "duration_ms    246646.049722\n",
      "tempo             117.559824\n",
      "dtype: float64\n",
      "               artist_name  duration_ms    tempo\n",
      "0  Wolfgang Amadeus Mozart     180000.0  120.012\n"
     ]
    }
   ],
   "source": [
    "nan_cols = [\"duration_ms\", \"tempo\"]\n",
    "print(dataset_df[nan_cols].mean())\n",
    "\n",
    "nan_cols = [\"artist_name\", \"duration_ms\", \"tempo\"]\n",
    "print(dataset_df[nan_cols].mode())"
   ]
  },
  {
   "cell_type": "markdown",
   "id": "76ccd8bf",
   "metadata": {},
   "source": [
    "We decided to replace NaN values in each column with the most frequent data in that column since we don't like to drop one whole row because of a single value missing."
   ]
  },
  {
   "cell_type": "code",
   "execution_count": 9,
   "id": "7b4e56f4",
   "metadata": {},
   "outputs": [
    {
     "name": "stdout",
     "output_type": "stream",
     "text": [
      "            Property  Percentage of Missing Values\n",
      "0        artist_name                           0.0\n",
      "1         track_name                           0.0\n",
      "2         popularity                           0.0\n",
      "3       acousticness                           0.0\n",
      "4       danceability                           0.0\n",
      "5        duration_ms                           0.0\n",
      "6             energy                           0.0\n",
      "7   instrumentalness                           0.0\n",
      "8                key                           0.0\n",
      "9           liveness                           0.0\n",
      "10          loudness                           0.0\n",
      "11              mode                           0.0\n",
      "12       speechiness                           0.0\n",
      "13             tempo                           0.0\n",
      "14           valence                           0.0\n",
      "15       music_genre                           0.0\n"
     ]
    }
   ],
   "source": [
    "# for column in nan_cols:\n",
    "#     dataset_df.loc[:,column].fillna(dataset_df[column].mode(), inplace = True)\n",
    "dataset_df.loc[:,\"artist_name\"].fillna(\"Wolfgang Amadeus Mozart\", inplace = True)\n",
    "dataset_df.loc[:,\"duration_ms\"].fillna(180000.0, inplace = True)\n",
    "dataset_df.loc[:,\"tempo\"].fillna(120.012, inplace = True)\n",
    "    \n",
    "missing_values = dataset_df.isna().sum()/len(dataset_df) * 100\n",
    "missing_values = pd.DataFrame({'Property': dataset_df.columns, 'Percentage of Missing Values': missing_values})\n",
    "missing_values.reset_index(inplace=True, drop=True)\n",
    "print(missing_values)"
   ]
  },
  {
   "cell_type": "markdown",
   "id": "fb26ce57",
   "metadata": {},
   "source": [
    "### Question 3:\n",
    "* <b>Normalizing Data:</b> Normalization refers to rescaling real valued numeric attributes into the range 0 and 1.  Normalization change the values of numeric columns in the dataset to a common scale, without distorting differences in the ranges of values. Normalization is required only when features have different ranges.\n",
    "* <b>Standardizing Data:</b> Standardization refers to shifting the distribution of each attribute to have a mean of zero and a standard deviation of one (unit variance). When we compare measurements that have different units Standardizing the features is important. Variables that are measured at different scales do not contribute equally to the analysis and might end up creating a bais."
   ]
  },
  {
   "cell_type": "markdown",
   "id": "abc1a39a",
   "metadata": {},
   "source": [
    "# Question 4: ???\n",
    "\n",
    "The good point of these approaches is that they get all data to the same scale, This may improve learning and may have better effect on some optimization methods. We used Normalization for the above reasons"
   ]
  },
  {
   "cell_type": "code",
   "execution_count": 10,
   "id": "a2e43adc",
   "metadata": {
    "scrolled": true
   },
   "outputs": [
    {
     "data": {
      "image/png": "[encoded data removed]",
      "text/plain": [
       "<Figure size 432x288 with 1 Axes>"
      ]
     },
     "metadata": {
      "needs_background": "light"
     },
     "output_type": "display_data"
    }
   ],
   "source": [
    "norm_column = [\"popularity\", \"duration_ms\", \"loudness\", \"tempo\"]\n",
    "\n",
    "for column in norm_column:\n",
    "    ax = dataset_df[column].plot.kde()"
   ]
  },
  {
   "cell_type": "code",
   "execution_count": 11,
   "id": "e6b66902",
   "metadata": {},
   "outputs": [
    {
     "data": {
      "text/html": [
       "<div>\n",
       "<style scoped>\n",
       "    .dataframe tbody tr th:only-of-type {\n",
       "        vertical-align: middle;\n",
       "    }\n",
       "\n",
       "    .dataframe tbody tr th {\n",
       "        vertical-align: top;\n",
       "    }\n",
       "\n",
       "    .dataframe thead th {\n",
       "        text-align: right;\n",
       "    }\n",
       "</style>\n",
       "<table border=\"1\" class=\"dataframe\">\n",
       "  <thead>\n",
       "    <tr style=\"text-align: right;\">\n",
       "      <th></th>\n",
       "      <th>artist_name</th>\n",
       "      <th>track_name</th>\n",
       "      <th>popularity</th>\n",
       "      <th>acousticness</th>\n",
       "      <th>danceability</th>\n",
       "      <th>duration_ms</th>\n",
       "      <th>energy</th>\n",
       "      <th>instrumentalness</th>\n",
       "      <th>key</th>\n",
       "      <th>liveness</th>\n",
       "      <th>loudness</th>\n",
       "      <th>mode</th>\n",
       "      <th>speechiness</th>\n",
       "      <th>tempo</th>\n",
       "      <th>valence</th>\n",
       "      <th>music_genre</th>\n",
       "    </tr>\n",
       "  </thead>\n",
       "  <tbody>\n",
       "    <tr>\n",
       "      <th>0</th>\n",
       "      <td>Blockhead</td>\n",
       "      <td>Cheer up, You're Not Dead Yet</td>\n",
       "      <td>0.444444</td>\n",
       "      <td>0.00621</td>\n",
       "      <td>0.711</td>\n",
       "      <td>0.085058</td>\n",
       "      <td>0.6210</td>\n",
       "      <td>0.029700</td>\n",
       "      <td>G</td>\n",
       "      <td>0.1590</td>\n",
       "      <td>0.818736</td>\n",
       "      <td>Major</td>\n",
       "      <td>0.0382</td>\n",
       "      <td>0.582310</td>\n",
       "      <td>0.6070</td>\n",
       "      <td>Jazz</td>\n",
       "    </tr>\n",
       "    <tr>\n",
       "      <th>1</th>\n",
       "      <td>FloFilz</td>\n",
       "      <td>Corners</td>\n",
       "      <td>0.343434</td>\n",
       "      <td>0.34700</td>\n",
       "      <td>0.729</td>\n",
       "      <td>0.027735</td>\n",
       "      <td>0.5150</td>\n",
       "      <td>0.006920</td>\n",
       "      <td>C</td>\n",
       "      <td>0.1270</td>\n",
       "      <td>0.762565</td>\n",
       "      <td>Major</td>\n",
       "      <td>0.1840</td>\n",
       "      <td>0.246627</td>\n",
       "      <td>0.2870</td>\n",
       "      <td>Jazz</td>\n",
       "    </tr>\n",
       "    <tr>\n",
       "      <th>2</th>\n",
       "      <td>Bonobo</td>\n",
       "      <td>We Could Forever</td>\n",
       "      <td>0.515152</td>\n",
       "      <td>0.01810</td>\n",
       "      <td>0.669</td>\n",
       "      <td>0.051728</td>\n",
       "      <td>0.8850</td>\n",
       "      <td>0.880000</td>\n",
       "      <td>G</td>\n",
       "      <td>0.2650</td>\n",
       "      <td>0.825949</td>\n",
       "      <td>Minor</td>\n",
       "      <td>0.0378</td>\n",
       "      <td>0.463094</td>\n",
       "      <td>0.6360</td>\n",
       "      <td>Jazz</td>\n",
       "    </tr>\n",
       "    <tr>\n",
       "      <th>3</th>\n",
       "      <td>Nils Landgren</td>\n",
       "      <td>A Child Is Born</td>\n",
       "      <td>0.393939</td>\n",
       "      <td>0.91800</td>\n",
       "      <td>0.484</td>\n",
       "      <td>0.067053</td>\n",
       "      <td>0.0693</td>\n",
       "      <td>0.000069</td>\n",
       "      <td>F</td>\n",
       "      <td>0.1390</td>\n",
       "      <td>0.651071</td>\n",
       "      <td>Major</td>\n",
       "      <td>0.0346</td>\n",
       "      <td>0.261428</td>\n",
       "      <td>0.2060</td>\n",
       "      <td>Jazz</td>\n",
       "    </tr>\n",
       "    <tr>\n",
       "      <th>4</th>\n",
       "      <td>Masayoshi Takanaka</td>\n",
       "      <td>Samba Pati</td>\n",
       "      <td>0.363636</td>\n",
       "      <td>0.03450</td>\n",
       "      <td>0.473</td>\n",
       "      <td>0.102945</td>\n",
       "      <td>0.8230</td>\n",
       "      <td>0.446000</td>\n",
       "      <td>G</td>\n",
       "      <td>0.3060</td>\n",
       "      <td>0.835352</td>\n",
       "      <td>Major</td>\n",
       "      <td>0.0630</td>\n",
       "      <td>0.380287</td>\n",
       "      <td>0.3830</td>\n",
       "      <td>Jazz</td>\n",
       "    </tr>\n",
       "    <tr>\n",
       "      <th>...</th>\n",
       "      <td>...</td>\n",
       "      <td>...</td>\n",
       "      <td>...</td>\n",
       "      <td>...</td>\n",
       "      <td>...</td>\n",
       "      <td>...</td>\n",
       "      <td>...</td>\n",
       "      <td>...</td>\n",
       "      <td>...</td>\n",
       "      <td>...</td>\n",
       "      <td>...</td>\n",
       "      <td>...</td>\n",
       "      <td>...</td>\n",
       "      <td>...</td>\n",
       "      <td>...</td>\n",
       "      <td>...</td>\n",
       "    </tr>\n",
       "    <tr>\n",
       "      <th>29995</th>\n",
       "      <td>Wolfgang Amadeus Mozart</td>\n",
       "      <td>Die Zauberflöte, K. 620: Wie stark ist nicht d...</td>\n",
       "      <td>0.222222</td>\n",
       "      <td>0.91100</td>\n",
       "      <td>0.326</td>\n",
       "      <td>0.111050</td>\n",
       "      <td>0.1330</td>\n",
       "      <td>0.000000</td>\n",
       "      <td>G</td>\n",
       "      <td>0.1300</td>\n",
       "      <td>0.548752</td>\n",
       "      <td>Major</td>\n",
       "      <td>0.0557</td>\n",
       "      <td>0.312151</td>\n",
       "      <td>0.2060</td>\n",
       "      <td>Classical</td>\n",
       "    </tr>\n",
       "    <tr>\n",
       "      <th>29996</th>\n",
       "      <td>New York Philharmonic</td>\n",
       "      <td>Symphony No. 2 in D Major, Op. 73: II. Adagio ...</td>\n",
       "      <td>0.262626</td>\n",
       "      <td>0.96500</td>\n",
       "      <td>0.126</td>\n",
       "      <td>0.156829</td>\n",
       "      <td>0.2040</td>\n",
       "      <td>0.869000</td>\n",
       "      <td>B</td>\n",
       "      <td>0.1060</td>\n",
       "      <td>0.631810</td>\n",
       "      <td>Major</td>\n",
       "      <td>0.0395</td>\n",
       "      <td>0.259968</td>\n",
       "      <td>0.0387</td>\n",
       "      <td>Classical</td>\n",
       "    </tr>\n",
       "    <tr>\n",
       "      <th>29997</th>\n",
       "      <td>Georges Bizet</td>\n",
       "      <td>Bizet: Carmen, WD 31, Act 1 Scene 4: No. 5, Ha...</td>\n",
       "      <td>0.545455</td>\n",
       "      <td>0.97600</td>\n",
       "      <td>0.363</td>\n",
       "      <td>0.077561</td>\n",
       "      <td>0.1150</td>\n",
       "      <td>0.000000</td>\n",
       "      <td>D</td>\n",
       "      <td>0.0992</td>\n",
       "      <td>0.614223</td>\n",
       "      <td>Major</td>\n",
       "      <td>0.0689</td>\n",
       "      <td>0.463094</td>\n",
       "      <td>0.2310</td>\n",
       "      <td>Classical</td>\n",
       "    </tr>\n",
       "    <tr>\n",
       "      <th>29998</th>\n",
       "      <td>Edvard Grieg</td>\n",
       "      <td>Peer Gynt-Suite Nr. 1, Op. 46: I. Morning</td>\n",
       "      <td>0.424242</td>\n",
       "      <td>0.98500</td>\n",
       "      <td>0.123</td>\n",
       "      <td>0.076751</td>\n",
       "      <td>0.0174</td>\n",
       "      <td>0.906000</td>\n",
       "      <td>E</td>\n",
       "      <td>0.1250</td>\n",
       "      <td>0.483074</td>\n",
       "      <td>Major</td>\n",
       "      <td>0.0408</td>\n",
       "      <td>0.201953</td>\n",
       "      <td>0.0352</td>\n",
       "      <td>Classical</td>\n",
       "    </tr>\n",
       "    <tr>\n",
       "      <th>29999</th>\n",
       "      <td>Johann Sebastian Bach</td>\n",
       "      <td>Suite No. 2 in B Minor, BWV 1067: VI. Menuet</td>\n",
       "      <td>0.363636</td>\n",
       "      <td>0.77200</td>\n",
       "      <td>0.486</td>\n",
       "      <td>0.018582</td>\n",
       "      <td>0.1570</td>\n",
       "      <td>0.906000</td>\n",
       "      <td>G#</td>\n",
       "      <td>0.1470</td>\n",
       "      <td>0.577995</td>\n",
       "      <td>Minor</td>\n",
       "      <td>0.0375</td>\n",
       "      <td>0.488637</td>\n",
       "      <td>0.6190</td>\n",
       "      <td>Classical</td>\n",
       "    </tr>\n",
       "  </tbody>\n",
       "</table>\n",
       "<p>30000 rows × 16 columns</p>\n",
       "</div>"
      ],
      "text/plain": [
       "                   artist_name  \\\n",
       "0                    Blockhead   \n",
       "1                      FloFilz   \n",
       "2                       Bonobo   \n",
       "3                Nils Landgren   \n",
       "4           Masayoshi Takanaka   \n",
       "...                        ...   \n",
       "29995  Wolfgang Amadeus Mozart   \n",
       "29996    New York Philharmonic   \n",
       "29997            Georges Bizet   \n",
       "29998             Edvard Grieg   \n",
       "29999    Johann Sebastian Bach   \n",
       "\n",
       "                                              track_name  popularity  \\\n",
       "0                          Cheer up, You're Not Dead Yet    0.444444   \n",
       "1                                                Corners    0.343434   \n",
       "2                                       We Could Forever    0.515152   \n",
       "3                                        A Child Is Born    0.393939   \n",
       "4                                             Samba Pati    0.363636   \n",
       "...                                                  ...         ...   \n",
       "29995  Die Zauberflöte, K. 620: Wie stark ist nicht d...    0.222222   \n",
       "29996  Symphony No. 2 in D Major, Op. 73: II. Adagio ...    0.262626   \n",
       "29997  Bizet: Carmen, WD 31, Act 1 Scene 4: No. 5, Ha...    0.545455   \n",
       "29998          Peer Gynt-Suite Nr. 1, Op. 46: I. Morning    0.424242   \n",
       "29999       Suite No. 2 in B Minor, BWV 1067: VI. Menuet    0.363636   \n",
       "\n",
       "       acousticness  danceability  duration_ms  energy  instrumentalness key  \\\n",
       "0           0.00621         0.711     0.085058  0.6210          0.029700   G   \n",
       "1           0.34700         0.729     0.027735  0.5150          0.006920   C   \n",
       "2           0.01810         0.669     0.051728  0.8850          0.880000   G   \n",
       "3           0.91800         0.484     0.067053  0.0693          0.000069   F   \n",
       "4           0.03450         0.473     0.102945  0.8230          0.446000   G   \n",
       "...             ...           ...          ...     ...               ...  ..   \n",
       "29995       0.91100         0.326     0.111050  0.1330          0.000000   G   \n",
       "29996       0.96500         0.126     0.156829  0.2040          0.869000   B   \n",
       "29997       0.97600         0.363     0.077561  0.1150          0.000000   D   \n",
       "29998       0.98500         0.123     0.076751  0.0174          0.906000   E   \n",
       "29999       0.77200         0.486     0.018582  0.1570          0.906000  G#   \n",
       "\n",
       "       liveness  loudness   mode  speechiness     tempo  valence music_genre  \n",
       "0        0.1590  0.818736  Major       0.0382  0.582310   0.6070        Jazz  \n",
       "1        0.1270  0.762565  Major       0.1840  0.246627   0.2870        Jazz  \n",
       "2        0.2650  0.825949  Minor       0.0378  0.463094   0.6360        Jazz  \n",
       "3        0.1390  0.651071  Major       0.0346  0.261428   0.2060        Jazz  \n",
       "4        0.3060  0.835352  Major       0.0630  0.380287   0.3830        Jazz  \n",
       "...         ...       ...    ...          ...       ...      ...         ...  \n",
       "29995    0.1300  0.548752  Major       0.0557  0.312151   0.2060   Classical  \n",
       "29996    0.1060  0.631810  Major       0.0395  0.259968   0.0387   Classical  \n",
       "29997    0.0992  0.614223  Major       0.0689  0.463094   0.2310   Classical  \n",
       "29998    0.1250  0.483074  Major       0.0408  0.201953   0.0352   Classical  \n",
       "29999    0.1470  0.577995  Minor       0.0375  0.488637   0.6190   Classical  \n",
       "\n",
       "[30000 rows x 16 columns]"
      ]
     },
     "execution_count": 11,
     "metadata": {},
     "output_type": "execute_result"
    }
   ],
   "source": [
    "#normalize\n",
    "for col in norm_column:\n",
    "    dataset_df[col] = (dataset_df[col]-dataset_df[col].min())/(dataset_df[col].max()-dataset_df[col].min())\n",
    "dataset_df"
   ]
  },
  {
   "cell_type": "code",
   "execution_count": 12,
   "id": "0a04b2fe",
   "metadata": {},
   "outputs": [
    {
     "data": {
      "image/png": "[encoded data removed]",
      "text/plain": [
       "<Figure size 432x288 with 1 Axes>"
      ]
     },
     "metadata": {
      "needs_background": "light"
     },
     "output_type": "display_data"
    }
   ],
   "source": [
    "for column in norm_column:\n",
    "    ax = dataset_df[column].plot.kde()"
   ]
  },
  {
   "cell_type": "markdown",
   "id": "98220c37",
   "metadata": {},
   "source": [
    "### Question 5:\n",
    "There are different ways for handling categirical data.\n",
    "* <b>Label Encoders:</b> Assigining numbers to each categorical value. \n",
    "* <b>One Hot Encoding:</b>  The basic strategy is to convert each category value into a new column and assigns a 1 or 0 (True/False) value to the column. This has the benefit of not weighting a value improperly but does have the downside of adding more columns to the data set. There are also other ways but here we choose to apply one Hot-Encode to categorical variables.\n",
    "* <b>Ordinal Encoding:</b> We use this categorical data encoding technique when the categorical feature is ordinal. In this case, retaining the order is important. Hence encoding should reflect the sequence.\n",
    "\n",
    "Label Encoders aren't a good option when we have no particular ordering in our categories. In these cases, we can use One Hot Encoding which takes a lot of memory since it is adding a new column for each new category. We use Ordinal Encoding because its give us better features."
   ]
  },
  {
   "cell_type": "code",
   "execution_count": 13,
   "id": "19bfdfeb",
   "metadata": {
    "scrolled": true
   },
   "outputs": [
    {
     "data": {
      "text/html": [
       "<div>\n",
       "<style scoped>\n",
       "    .dataframe tbody tr th:only-of-type {\n",
       "        vertical-align: middle;\n",
       "    }\n",
       "\n",
       "    .dataframe tbody tr th {\n",
       "        vertical-align: top;\n",
       "    }\n",
       "\n",
       "    .dataframe thead th {\n",
       "        text-align: right;\n",
       "    }\n",
       "</style>\n",
       "<table border=\"1\" class=\"dataframe\">\n",
       "  <thead>\n",
       "    <tr style=\"text-align: right;\">\n",
       "      <th></th>\n",
       "      <th>artist_name</th>\n",
       "      <th>track_name</th>\n",
       "      <th>popularity</th>\n",
       "      <th>acousticness</th>\n",
       "      <th>danceability</th>\n",
       "      <th>duration_ms</th>\n",
       "      <th>energy</th>\n",
       "      <th>instrumentalness</th>\n",
       "      <th>key</th>\n",
       "      <th>liveness</th>\n",
       "      <th>loudness</th>\n",
       "      <th>mode</th>\n",
       "      <th>speechiness</th>\n",
       "      <th>tempo</th>\n",
       "      <th>valence</th>\n",
       "      <th>music_genre</th>\n",
       "    </tr>\n",
       "  </thead>\n",
       "  <tbody>\n",
       "    <tr>\n",
       "      <th>0</th>\n",
       "      <td>Blockhead</td>\n",
       "      <td>Cheer up, You're Not Dead Yet</td>\n",
       "      <td>0.444444</td>\n",
       "      <td>0.00621</td>\n",
       "      <td>0.711</td>\n",
       "      <td>0.085058</td>\n",
       "      <td>0.6210</td>\n",
       "      <td>0.029700</td>\n",
       "      <td>10.0</td>\n",
       "      <td>0.1590</td>\n",
       "      <td>0.818736</td>\n",
       "      <td>0.0</td>\n",
       "      <td>0.0382</td>\n",
       "      <td>0.582310</td>\n",
       "      <td>0.6070</td>\n",
       "      <td>3.0</td>\n",
       "    </tr>\n",
       "    <tr>\n",
       "      <th>1</th>\n",
       "      <td>FloFilz</td>\n",
       "      <td>Corners</td>\n",
       "      <td>0.343434</td>\n",
       "      <td>0.34700</td>\n",
       "      <td>0.729</td>\n",
       "      <td>0.027735</td>\n",
       "      <td>0.5150</td>\n",
       "      <td>0.006920</td>\n",
       "      <td>3.0</td>\n",
       "      <td>0.1270</td>\n",
       "      <td>0.762565</td>\n",
       "      <td>0.0</td>\n",
       "      <td>0.1840</td>\n",
       "      <td>0.246627</td>\n",
       "      <td>0.2870</td>\n",
       "      <td>3.0</td>\n",
       "    </tr>\n",
       "    <tr>\n",
       "      <th>2</th>\n",
       "      <td>Bonobo</td>\n",
       "      <td>We Could Forever</td>\n",
       "      <td>0.515152</td>\n",
       "      <td>0.01810</td>\n",
       "      <td>0.669</td>\n",
       "      <td>0.051728</td>\n",
       "      <td>0.8850</td>\n",
       "      <td>0.880000</td>\n",
       "      <td>10.0</td>\n",
       "      <td>0.2650</td>\n",
       "      <td>0.825949</td>\n",
       "      <td>1.0</td>\n",
       "      <td>0.0378</td>\n",
       "      <td>0.463094</td>\n",
       "      <td>0.6360</td>\n",
       "      <td>3.0</td>\n",
       "    </tr>\n",
       "    <tr>\n",
       "      <th>3</th>\n",
       "      <td>Nils Landgren</td>\n",
       "      <td>A Child Is Born</td>\n",
       "      <td>0.393939</td>\n",
       "      <td>0.91800</td>\n",
       "      <td>0.484</td>\n",
       "      <td>0.067053</td>\n",
       "      <td>0.0693</td>\n",
       "      <td>0.000069</td>\n",
       "      <td>8.0</td>\n",
       "      <td>0.1390</td>\n",
       "      <td>0.651071</td>\n",
       "      <td>0.0</td>\n",
       "      <td>0.0346</td>\n",
       "      <td>0.261428</td>\n",
       "      <td>0.2060</td>\n",
       "      <td>3.0</td>\n",
       "    </tr>\n",
       "    <tr>\n",
       "      <th>4</th>\n",
       "      <td>Masayoshi Takanaka</td>\n",
       "      <td>Samba Pati</td>\n",
       "      <td>0.363636</td>\n",
       "      <td>0.03450</td>\n",
       "      <td>0.473</td>\n",
       "      <td>0.102945</td>\n",
       "      <td>0.8230</td>\n",
       "      <td>0.446000</td>\n",
       "      <td>10.0</td>\n",
       "      <td>0.3060</td>\n",
       "      <td>0.835352</td>\n",
       "      <td>0.0</td>\n",
       "      <td>0.0630</td>\n",
       "      <td>0.380287</td>\n",
       "      <td>0.3830</td>\n",
       "      <td>3.0</td>\n",
       "    </tr>\n",
       "    <tr>\n",
       "      <th>...</th>\n",
       "      <td>...</td>\n",
       "      <td>...</td>\n",
       "      <td>...</td>\n",
       "      <td>...</td>\n",
       "      <td>...</td>\n",
       "      <td>...</td>\n",
       "      <td>...</td>\n",
       "      <td>...</td>\n",
       "      <td>...</td>\n",
       "      <td>...</td>\n",
       "      <td>...</td>\n",
       "      <td>...</td>\n",
       "      <td>...</td>\n",
       "      <td>...</td>\n",
       "      <td>...</td>\n",
       "      <td>...</td>\n",
       "    </tr>\n",
       "    <tr>\n",
       "      <th>29995</th>\n",
       "      <td>Wolfgang Amadeus Mozart</td>\n",
       "      <td>Die Zauberflöte, K. 620: Wie stark ist nicht d...</td>\n",
       "      <td>0.222222</td>\n",
       "      <td>0.91100</td>\n",
       "      <td>0.326</td>\n",
       "      <td>0.111050</td>\n",
       "      <td>0.1330</td>\n",
       "      <td>0.000000</td>\n",
       "      <td>10.0</td>\n",
       "      <td>0.1300</td>\n",
       "      <td>0.548752</td>\n",
       "      <td>0.0</td>\n",
       "      <td>0.0557</td>\n",
       "      <td>0.312151</td>\n",
       "      <td>0.2060</td>\n",
       "      <td>1.0</td>\n",
       "    </tr>\n",
       "    <tr>\n",
       "      <th>29996</th>\n",
       "      <td>New York Philharmonic</td>\n",
       "      <td>Symphony No. 2 in D Major, Op. 73: II. Adagio ...</td>\n",
       "      <td>0.262626</td>\n",
       "      <td>0.96500</td>\n",
       "      <td>0.126</td>\n",
       "      <td>0.156829</td>\n",
       "      <td>0.2040</td>\n",
       "      <td>0.869000</td>\n",
       "      <td>2.0</td>\n",
       "      <td>0.1060</td>\n",
       "      <td>0.631810</td>\n",
       "      <td>0.0</td>\n",
       "      <td>0.0395</td>\n",
       "      <td>0.259968</td>\n",
       "      <td>0.0387</td>\n",
       "      <td>1.0</td>\n",
       "    </tr>\n",
       "    <tr>\n",
       "      <th>29997</th>\n",
       "      <td>Georges Bizet</td>\n",
       "      <td>Bizet: Carmen, WD 31, Act 1 Scene 4: No. 5, Ha...</td>\n",
       "      <td>0.545455</td>\n",
       "      <td>0.97600</td>\n",
       "      <td>0.363</td>\n",
       "      <td>0.077561</td>\n",
       "      <td>0.1150</td>\n",
       "      <td>0.000000</td>\n",
       "      <td>5.0</td>\n",
       "      <td>0.0992</td>\n",
       "      <td>0.614223</td>\n",
       "      <td>0.0</td>\n",
       "      <td>0.0689</td>\n",
       "      <td>0.463094</td>\n",
       "      <td>0.2310</td>\n",
       "      <td>1.0</td>\n",
       "    </tr>\n",
       "    <tr>\n",
       "      <th>29998</th>\n",
       "      <td>Edvard Grieg</td>\n",
       "      <td>Peer Gynt-Suite Nr. 1, Op. 46: I. Morning</td>\n",
       "      <td>0.424242</td>\n",
       "      <td>0.98500</td>\n",
       "      <td>0.123</td>\n",
       "      <td>0.076751</td>\n",
       "      <td>0.0174</td>\n",
       "      <td>0.906000</td>\n",
       "      <td>7.0</td>\n",
       "      <td>0.1250</td>\n",
       "      <td>0.483074</td>\n",
       "      <td>0.0</td>\n",
       "      <td>0.0408</td>\n",
       "      <td>0.201953</td>\n",
       "      <td>0.0352</td>\n",
       "      <td>1.0</td>\n",
       "    </tr>\n",
       "    <tr>\n",
       "      <th>29999</th>\n",
       "      <td>Johann Sebastian Bach</td>\n",
       "      <td>Suite No. 2 in B Minor, BWV 1067: VI. Menuet</td>\n",
       "      <td>0.363636</td>\n",
       "      <td>0.77200</td>\n",
       "      <td>0.486</td>\n",
       "      <td>0.018582</td>\n",
       "      <td>0.1570</td>\n",
       "      <td>0.906000</td>\n",
       "      <td>11.0</td>\n",
       "      <td>0.1470</td>\n",
       "      <td>0.577995</td>\n",
       "      <td>1.0</td>\n",
       "      <td>0.0375</td>\n",
       "      <td>0.488637</td>\n",
       "      <td>0.6190</td>\n",
       "      <td>1.0</td>\n",
       "    </tr>\n",
       "  </tbody>\n",
       "</table>\n",
       "<p>30000 rows × 16 columns</p>\n",
       "</div>"
      ],
      "text/plain": [
       "                   artist_name  \\\n",
       "0                    Blockhead   \n",
       "1                      FloFilz   \n",
       "2                       Bonobo   \n",
       "3                Nils Landgren   \n",
       "4           Masayoshi Takanaka   \n",
       "...                        ...   \n",
       "29995  Wolfgang Amadeus Mozart   \n",
       "29996    New York Philharmonic   \n",
       "29997            Georges Bizet   \n",
       "29998             Edvard Grieg   \n",
       "29999    Johann Sebastian Bach   \n",
       "\n",
       "                                              track_name  popularity  \\\n",
       "0                          Cheer up, You're Not Dead Yet    0.444444   \n",
       "1                                                Corners    0.343434   \n",
       "2                                       We Could Forever    0.515152   \n",
       "3                                        A Child Is Born    0.393939   \n",
       "4                                             Samba Pati    0.363636   \n",
       "...                                                  ...         ...   \n",
       "29995  Die Zauberflöte, K. 620: Wie stark ist nicht d...    0.222222   \n",
       "29996  Symphony No. 2 in D Major, Op. 73: II. Adagio ...    0.262626   \n",
       "29997  Bizet: Carmen, WD 31, Act 1 Scene 4: No. 5, Ha...    0.545455   \n",
       "29998          Peer Gynt-Suite Nr. 1, Op. 46: I. Morning    0.424242   \n",
       "29999       Suite No. 2 in B Minor, BWV 1067: VI. Menuet    0.363636   \n",
       "\n",
       "       acousticness  danceability  duration_ms  energy  instrumentalness  \\\n",
       "0           0.00621         0.711     0.085058  0.6210          0.029700   \n",
       "1           0.34700         0.729     0.027735  0.5150          0.006920   \n",
       "2           0.01810         0.669     0.051728  0.8850          0.880000   \n",
       "3           0.91800         0.484     0.067053  0.0693          0.000069   \n",
       "4           0.03450         0.473     0.102945  0.8230          0.446000   \n",
       "...             ...           ...          ...     ...               ...   \n",
       "29995       0.91100         0.326     0.111050  0.1330          0.000000   \n",
       "29996       0.96500         0.126     0.156829  0.2040          0.869000   \n",
       "29997       0.97600         0.363     0.077561  0.1150          0.000000   \n",
       "29998       0.98500         0.123     0.076751  0.0174          0.906000   \n",
       "29999       0.77200         0.486     0.018582  0.1570          0.906000   \n",
       "\n",
       "        key  liveness  loudness  mode  speechiness     tempo  valence  \\\n",
       "0      10.0    0.1590  0.818736   0.0       0.0382  0.582310   0.6070   \n",
       "1       3.0    0.1270  0.762565   0.0       0.1840  0.246627   0.2870   \n",
       "2      10.0    0.2650  0.825949   1.0       0.0378  0.463094   0.6360   \n",
       "3       8.0    0.1390  0.651071   0.0       0.0346  0.261428   0.2060   \n",
       "4      10.0    0.3060  0.835352   0.0       0.0630  0.380287   0.3830   \n",
       "...     ...       ...       ...   ...          ...       ...      ...   \n",
       "29995  10.0    0.1300  0.548752   0.0       0.0557  0.312151   0.2060   \n",
       "29996   2.0    0.1060  0.631810   0.0       0.0395  0.259968   0.0387   \n",
       "29997   5.0    0.0992  0.614223   0.0       0.0689  0.463094   0.2310   \n",
       "29998   7.0    0.1250  0.483074   0.0       0.0408  0.201953   0.0352   \n",
       "29999  11.0    0.1470  0.577995   1.0       0.0375  0.488637   0.6190   \n",
       "\n",
       "       music_genre  \n",
       "0              3.0  \n",
       "1              3.0  \n",
       "2              3.0  \n",
       "3              3.0  \n",
       "4              3.0  \n",
       "...            ...  \n",
       "29995          1.0  \n",
       "29996          1.0  \n",
       "29997          1.0  \n",
       "29998          1.0  \n",
       "29999          1.0  \n",
       "\n",
       "[30000 rows x 16 columns]"
      ]
     },
     "execution_count": 13,
     "metadata": {},
     "output_type": "execute_result"
    }
   ],
   "source": [
    "from sklearn.preprocessing import OrdinalEncoder\n",
    "pd.options.mode.chained_assignment = None  # default='warn'\n",
    "#numerical_cols = list(dataset_df._get_numeric_data().columns)\n",
    "#categorical_cols = [x for x in list(dataset_df.columns) if x not in numerical_cols]\n",
    "categorical_cols = [\"key\", \"mode\", \"music_genre\"] # \"artist_name\", \n",
    "ord_enc = OrdinalEncoder()\n",
    "dataset_df[categorical_cols] = ord_enc.fit_transform(dataset_df[categorical_cols].astype(str))\n",
    "dataset_df\n",
    "\n",
    "# for col in dataset_df:\n",
    "#     if dataset_df[col].dtypes == 'object':\n",
    "#         brand_one_hot = pd.get_dummies(dataset_df[col], prefix=col)\n",
    "#         dataset_df = dataset_df.drop([col], axis = 1)\n",
    "#         dataset_df = pd.concat([dataset_df, brand_one_hot], axis = 1)\n",
    "# dataset_df\n",
    "\n",
    "# from sklearn.preprocessing import OneHotEncoder\n",
    "# numerical_cols = list(dataset_df._get_numeric_data().columns)\n",
    "# categorical_cols = [x for x in list(dataset_df.columns) if x not in numerical_cols]\n",
    "# encoder = OneHotEncoder()\n",
    "# onehot = encoder.fit_transform(dataset_df[categorical_cols]).toarray()\n",
    "# encoder_cols = encoder.get_feature_names(categorical_cols)\n",
    "# categorical_df = pd.DataFrame(onehot,columns = encoder_cols)\n",
    "# categorical_df"
   ]
  },
  {
   "cell_type": "markdown",
   "id": "4ed06837",
   "metadata": {},
   "source": [
    "# Question 6: ???"
   ]
  },
  {
   "cell_type": "markdown",
   "id": "add7f0b3",
   "metadata": {},
   "source": [
    "### Question 7:\n",
    "mutual_info_regression is used and the feature values and the target of dataset(type) passed to it."
   ]
  },
  {
   "cell_type": "code",
   "execution_count": 16,
   "id": "e1993e62",
   "metadata": {},
   "outputs": [
    {
     "data": {
      "text/plain": [
       "popularity          0.499355\n",
       "acousticness        0.358103\n",
       "danceability        0.278010\n",
       "duration_ms         0.100005\n",
       "energy              0.328939\n",
       "instrumentalness    0.298365\n",
       "key                 0.019869\n",
       "liveness            0.009144\n",
       "loudness            0.346084\n",
       "mode                0.036129\n",
       "speechiness         0.212096\n",
       "tempo               0.098051\n",
       "valence             0.137697\n",
       "dtype: float64"
      ]
     },
     "execution_count": 16,
     "metadata": {},
     "output_type": "execute_result"
    }
   ],
   "source": [
    "from sklearn.feature_selection import mutual_info_regression\n",
    "features = [\"artist_name\", \"track_name\", \"music_genre\"]\n",
    "y = dataset_df['music_genre']\n",
    "X = dataset_df.copy()\n",
    "X = X.drop(columns=features, axis = 1)\n",
    "mir = mutual_info_regression(X, y)\n",
    "mir = pd.Series(mir)\n",
    "mir.index = X.columns\n",
    "mir"
   ]
  },
  {
   "cell_type": "code",
   "execution_count": 17,
   "id": "ae41d59a",
   "metadata": {
    "scrolled": false
   },
   "outputs": [
    {
     "data": {
      "image/png": "[encoded data removed]",
      "text/plain": [
       "<Figure size 2400x960 with 1 Axes>"
      ]
     },
     "metadata": {},
     "output_type": "display_data"
    }
   ],
   "source": [
    "plt.figure(figsize=(30,12), dpi= 80, facecolor='w', edgecolor='k')\n",
    "mir.plot.bar()\n",
    "plt.title('information gains with mutual_info_regression method')\n",
    "plt.show()"
   ]
  },
  {
   "cell_type": "markdown",
   "id": "9ea39cbb",
   "metadata": {},
   "source": [
    "if information gain (the values in the bar chart below) is high it means that the corresponding feature can provide more information than the others meaning that it'll help the training procedure more so it's a good idea to keep that feature in the dataset and use it's values in the training. This plot shows that the columns genres are giving us more useful info about the type of each row. We can simply eliminate the other columns since they don't have much gain."
   ]
  },
  {
   "cell_type": "code",
   "execution_count": 18,
   "id": "dddf52de",
   "metadata": {
    "scrolled": false
   },
   "outputs": [
    {
     "data": {
      "image/png": "[encoded data removed]",
      "text/plain": [
       "<Figure size 2560x960 with 1 Axes>"
      ]
     },
     "metadata": {},
     "output_type": "display_data"
    }
   ],
   "source": [
    "from sklearn.feature_selection import mutual_info_classif\n",
    "features = [\"artist_name\", \"track_name\", \"music_genre\"]  \n",
    "information_gains = dict(zip(dataset_df.drop(columns=features).columns, mutual_info_classif(dataset_df.drop(columns=features), dataset_df[\"music_genre\"])))\n",
    "lists = sorted(information_gains.items())\n",
    "x_, y_ = zip(*lists)\n",
    "fig=plt.figure(figsize=(32,12), dpi= 80, facecolor='w', edgecolor='k')\n",
    "plt.plot(x_, y_)\n",
    "plt.title('information gains with mutual_info_classif method')\n",
    "plt.xticks(x_, information_gains.keys(), rotation='vertical')\n",
    "plt.show()"
   ]
  },
  {
   "cell_type": "markdown",
   "id": "edeb6c50",
   "metadata": {},
   "source": [
    "Mutual information is a quantity that measures how much one random variables tells about another. Mutual information can be thought of as the reduction in uncertainty about one random variable given knowledge of another. High mutual information indicates a large reduction in uncertainty; low mutual information indicates a small reduction; and zero mutual information between two random variables means the variables are independent.\n",
    "For calculating the information gain of features in this project the mutual_info_classif function from sklearn.feature_selection was used. The function returns an estimate for mutual information for a discrete target variable\n",
    "Mutual information between two random variables is a non-negative value, which measures the dependency between the variables. It is equal to zero if and only if two random variables are independent, and higher values mean higher dependency."
   ]
  },
  {
   "cell_type": "markdown",
   "id": "276b9034",
   "metadata": {},
   "source": [
    "# Question 8: ???\n",
    "\n",
    "Feature selection is meant to choose the most effective features from data.\n",
    "As we mentioned earlier we can use the the correlation between features and target to determine the most numerical features.\n",
    "For the categorical features we can use the chi-square approach to check independent features from target and remove them.\n",
    "Dimensionality reduction may create new features from current features to get more accuraccy.\n",
    "\n",
    "An alternative approach could be to remove categorical variables from the dataset. While removing features is always an option, it may not be the best way to deal with categorical variables as we will lose potentially important information."
   ]
  },
  {
   "cell_type": "markdown",
   "id": "b4203f35",
   "metadata": {},
   "source": [
    "## Phase 2: Model Training, Evaluation and Hyper Parameter Tuning\n",
    "### Question 1:\n",
    "Data splitting is an important phase, If we use whole data for both train and test our mesurments may not be precise,\n",
    "because there may be overfitting on train data.\n",
    "So we can split our data to train/test to handle this challenge, but again there is another problem.\n",
    "First of all we have to divide our dataset to two parts trainset and testset so by using `train_test_split` method of `sklearn` and setting `test_size` we'll determine what percentage of our data is for test. For the division `train_test_split` fucntions from `sklearn.model_selection` is used which returns 4 dataset likes. Two are for the training data and two are for test data. And the dependent variable which here is the `type` feature.\n",
    "\n",
    "The `P` ratio depends on lots of metrics but two important metrics to mention are the number of rows in our data and our data itself.\n",
    "Assume that we have extremely small data in this situations small p may effect our learning accuracy.\n",
    "In larger datasets we can do the split with more confidence. After reading some documents online I came to the understanding that 10% to 30% is a good percentage for test size and by experimenting different values I decided to use the value 20%.\n",
    "\n",
    "Another important note to mention is randomness. We must shuffle our data so there is no learning from the sequence of data itself.\n",
    "`random_state` is for getting the same set of data each time so that we don't get different results, meaning it won't give us random data each time. `random_state` is like the seed that we set for random. \n",
    "\n",
    "The `stratify` parameter makes a split so that the proportion of values in the sample produced will be the same as the proportion of values provided to parameter `stratify`. For example, if variable `y` is a binary categorical variable with values `0` and 1 and there are 25% of zeros and 75% of ones, `stratify=y` will make sure that your random split has 25% of `0`'s and 75% of `1`'s."
   ]
  },
  {
   "cell_type": "markdown",
   "id": "5a8f52b5",
   "metadata": {},
   "source": [
    "### Question 2:"
   ]
  },
  {
   "cell_type": "code",
   "execution_count": 19,
   "id": "78c63529",
   "metadata": {},
   "outputs": [],
   "source": [
    "from sklearn.preprocessing import StandardScaler\n",
    "from sklearn.model_selection import train_test_split\n",
    "\n",
    "Y = dataset_df['music_genre']\n",
    "X = dataset_df.drop(columns=features, axis = 1)\n",
    "X_train, X_test, Y_train, Y_test = train_test_split(X , Y , test_size = 0.20 , random_state = 42)\n",
    "scaler = StandardScaler()\n",
    "scaler.fit(X_train)\n",
    "X_train = scaler.transform(X_train)\n",
    "X_test = scaler.transform(X_test)"
   ]
  },
  {
   "cell_type": "markdown",
   "id": "ac2a34bd",
   "metadata": {},
   "source": [
    "### Question 3:"
   ]
  },
  {
   "cell_type": "code",
   "execution_count": null,
   "id": "ddc3bf77",
   "metadata": {},
   "outputs": [],
   "source": []
  },
  {
   "cell_type": "markdown",
   "id": "d2530118",
   "metadata": {},
   "source": [
    "### Question 4:"
   ]
  },
  {
   "cell_type": "code",
   "execution_count": 20,
   "id": "5b5dd686",
   "metadata": {
    "scrolled": false
   },
   "outputs": [
    {
     "name": "stdout",
     "output_type": "stream",
     "text": [
      "best_depth = 6 and min_samples_split = 12\n",
      "confusion_matrix for test dataset:\n"
     ]
    },
    {
     "data": {
      "image/png": "[encoded data removed]",
      "text/plain": [
       "<Figure size 432x288 with 2 Axes>"
      ]
     },
     "metadata": {
      "needs_background": "light"
     },
     "output_type": "display_data"
    },
    {
     "name": "stdout",
     "output_type": "stream",
     "text": [
      "confusion_matrix for train dataset:\n"
     ]
    },
    {
     "ename": "KeyboardInterrupt",
     "evalue": "",
     "output_type": "error",
     "traceback": [
      "\u001b[1;31m---------------------------------------------------------------------------\u001b[0m",
      "\u001b[1;31mKeyboardInterrupt\u001b[0m                         Traceback (most recent call last)",
      "\u001b[1;32m<ipython-input-20-e1488df52ddc>\u001b[0m in \u001b[0;36m<module>\u001b[1;34m\u001b[0m\n\u001b[0;32m     31\u001b[0m     \u001b[0mprint\u001b[0m\u001b[1;33m(\u001b[0m\u001b[1;34m\"-------------------------------------------------\"\u001b[0m\u001b[1;33m)\u001b[0m\u001b[1;33m\u001b[0m\u001b[1;33m\u001b[0m\u001b[0m\n\u001b[0;32m     32\u001b[0m \u001b[1;33m\u001b[0m\u001b[0m\n\u001b[1;32m---> 33\u001b[1;33m \u001b[0mdecision_tree_method\u001b[0m\u001b[1;33m(\u001b[0m\u001b[1;36m6\u001b[0m \u001b[1;33m,\u001b[0m \u001b[1;36m12\u001b[0m \u001b[1;33m,\u001b[0m \u001b[0mX_train\u001b[0m \u001b[1;33m,\u001b[0m \u001b[0mY_train\u001b[0m \u001b[1;33m,\u001b[0m \u001b[0mX_test\u001b[0m \u001b[1;33m,\u001b[0m \u001b[0mY_test\u001b[0m\u001b[1;33m)\u001b[0m\u001b[1;33m\u001b[0m\u001b[1;33m\u001b[0m\u001b[0m\n\u001b[0m",
      "\u001b[1;32m<ipython-input-20-e1488df52ddc>\u001b[0m in \u001b[0;36mdecision_tree_method\u001b[1;34m(best_depth, min_split, X_train, Y_train, X_test, Y_test)\u001b[0m\n\u001b[0;32m     21\u001b[0m     \u001b[0mprint\u001b[0m\u001b[1;33m(\u001b[0m\u001b[1;34m\"confusion_matrix for train dataset:\"\u001b[0m\u001b[1;33m)\u001b[0m\u001b[1;33m\u001b[0m\u001b[1;33m\u001b[0m\u001b[0m\n\u001b[0;32m     22\u001b[0m     \u001b[0mclf\u001b[0m \u001b[1;33m=\u001b[0m \u001b[0mSVC\u001b[0m\u001b[1;33m(\u001b[0m\u001b[0mrandom_state\u001b[0m\u001b[1;33m=\u001b[0m\u001b[1;36m0\u001b[0m\u001b[1;33m)\u001b[0m\u001b[1;33m\u001b[0m\u001b[1;33m\u001b[0m\u001b[0m\n\u001b[1;32m---> 23\u001b[1;33m     \u001b[0mclf\u001b[0m\u001b[1;33m.\u001b[0m\u001b[0mfit\u001b[0m\u001b[1;33m(\u001b[0m\u001b[0mX_train\u001b[0m\u001b[1;33m,\u001b[0m \u001b[0mY_train\u001b[0m\u001b[1;33m)\u001b[0m\u001b[1;33m\u001b[0m\u001b[1;33m\u001b[0m\u001b[0m\n\u001b[0m\u001b[0;32m     24\u001b[0m     \u001b[0mdisp\u001b[0m \u001b[1;33m=\u001b[0m \u001b[0mConfusionMatrixDisplay\u001b[0m\u001b[1;33m(\u001b[0m\u001b[0mconfusion_matrix\u001b[0m\u001b[1;33m=\u001b[0m\u001b[0mtrain_cm\u001b[0m\u001b[1;33m,\u001b[0m \u001b[0mdisplay_labels\u001b[0m\u001b[1;33m=\u001b[0m\u001b[0mclf\u001b[0m\u001b[1;33m.\u001b[0m\u001b[0mclasses_\u001b[0m\u001b[1;33m)\u001b[0m\u001b[1;33m\u001b[0m\u001b[1;33m\u001b[0m\u001b[0m\n\u001b[0;32m     25\u001b[0m     \u001b[0mdisp\u001b[0m\u001b[1;33m.\u001b[0m\u001b[0mplot\u001b[0m\u001b[1;33m(\u001b[0m\u001b[1;33m)\u001b[0m\u001b[1;33m\u001b[0m\u001b[1;33m\u001b[0m\u001b[0m\n",
      "\u001b[1;32m~\\anaconda3\\lib\\site-packages\\sklearn\\svm\\_base.py\u001b[0m in \u001b[0;36mfit\u001b[1;34m(self, X, y, sample_weight)\u001b[0m\n\u001b[0;32m    224\u001b[0m \u001b[1;33m\u001b[0m\u001b[0m\n\u001b[0;32m    225\u001b[0m         \u001b[0mseed\u001b[0m \u001b[1;33m=\u001b[0m \u001b[0mrnd\u001b[0m\u001b[1;33m.\u001b[0m\u001b[0mrandint\u001b[0m\u001b[1;33m(\u001b[0m\u001b[0mnp\u001b[0m\u001b[1;33m.\u001b[0m\u001b[0miinfo\u001b[0m\u001b[1;33m(\u001b[0m\u001b[1;34m'i'\u001b[0m\u001b[1;33m)\u001b[0m\u001b[1;33m.\u001b[0m\u001b[0mmax\u001b[0m\u001b[1;33m)\u001b[0m\u001b[1;33m\u001b[0m\u001b[1;33m\u001b[0m\u001b[0m\n\u001b[1;32m--> 226\u001b[1;33m         \u001b[0mfit\u001b[0m\u001b[1;33m(\u001b[0m\u001b[0mX\u001b[0m\u001b[1;33m,\u001b[0m \u001b[0my\u001b[0m\u001b[1;33m,\u001b[0m \u001b[0msample_weight\u001b[0m\u001b[1;33m,\u001b[0m \u001b[0msolver_type\u001b[0m\u001b[1;33m,\u001b[0m \u001b[0mkernel\u001b[0m\u001b[1;33m,\u001b[0m \u001b[0mrandom_seed\u001b[0m\u001b[1;33m=\u001b[0m\u001b[0mseed\u001b[0m\u001b[1;33m)\u001b[0m\u001b[1;33m\u001b[0m\u001b[1;33m\u001b[0m\u001b[0m\n\u001b[0m\u001b[0;32m    227\u001b[0m         \u001b[1;31m# see comment on the other call to np.iinfo in this file\u001b[0m\u001b[1;33m\u001b[0m\u001b[1;33m\u001b[0m\u001b[1;33m\u001b[0m\u001b[0m\n\u001b[0;32m    228\u001b[0m \u001b[1;33m\u001b[0m\u001b[0m\n",
      "\u001b[1;32m~\\anaconda3\\lib\\site-packages\\sklearn\\svm\\_base.py\u001b[0m in \u001b[0;36m_dense_fit\u001b[1;34m(self, X, y, sample_weight, solver_type, kernel, random_seed)\u001b[0m\n\u001b[0;32m    275\u001b[0m         \u001b[0mself\u001b[0m\u001b[1;33m.\u001b[0m\u001b[0msupport_\u001b[0m\u001b[1;33m,\u001b[0m \u001b[0mself\u001b[0m\u001b[1;33m.\u001b[0m\u001b[0msupport_vectors_\u001b[0m\u001b[1;33m,\u001b[0m \u001b[0mself\u001b[0m\u001b[1;33m.\u001b[0m\u001b[0m_n_support\u001b[0m\u001b[1;33m,\u001b[0m\u001b[0;31m \u001b[0m\u001b[0;31m\\\u001b[0m\u001b[1;33m\u001b[0m\u001b[1;33m\u001b[0m\u001b[0m\n\u001b[0;32m    276\u001b[0m             \u001b[0mself\u001b[0m\u001b[1;33m.\u001b[0m\u001b[0mdual_coef_\u001b[0m\u001b[1;33m,\u001b[0m \u001b[0mself\u001b[0m\u001b[1;33m.\u001b[0m\u001b[0mintercept_\u001b[0m\u001b[1;33m,\u001b[0m \u001b[0mself\u001b[0m\u001b[1;33m.\u001b[0m\u001b[0m_probA\u001b[0m\u001b[1;33m,\u001b[0m\u001b[0;31m \u001b[0m\u001b[0;31m\\\u001b[0m\u001b[1;33m\u001b[0m\u001b[1;33m\u001b[0m\u001b[0m\n\u001b[1;32m--> 277\u001b[1;33m             self._probB, self.fit_status_ = libsvm.fit(\n\u001b[0m\u001b[0;32m    278\u001b[0m                 \u001b[0mX\u001b[0m\u001b[1;33m,\u001b[0m \u001b[0my\u001b[0m\u001b[1;33m,\u001b[0m\u001b[1;33m\u001b[0m\u001b[1;33m\u001b[0m\u001b[0m\n\u001b[0;32m    279\u001b[0m                 \u001b[0msvm_type\u001b[0m\u001b[1;33m=\u001b[0m\u001b[0msolver_type\u001b[0m\u001b[1;33m,\u001b[0m \u001b[0msample_weight\u001b[0m\u001b[1;33m=\u001b[0m\u001b[0msample_weight\u001b[0m\u001b[1;33m,\u001b[0m\u001b[1;33m\u001b[0m\u001b[1;33m\u001b[0m\u001b[0m\n",
      "\u001b[1;31mKeyboardInterrupt\u001b[0m: "
     ]
    }
   ],
   "source": [
    "from sklearn import tree\n",
    "from sklearn.metrics import confusion_matrix , ConfusionMatrixDisplay\n",
    "from sklearn.metrics import accuracy_score\n",
    "from sklearn import metrics\n",
    "from sklearn.metrics import plot_confusion_matrix\n",
    "from sklearn.svm import SVC\n",
    "def decision_tree_method(best_depth , min_split , X_train , Y_train , X_test , Y_test):\n",
    "    print(\"best_depth =\", best_depth, \"and min_samples_split =\", min_split)\n",
    "    reg = tree.DecisionTreeRegressor(max_depth = best_depth , min_samples_split = min_split)\n",
    "    reg = reg.fit(X_train, Y_train)\n",
    "    test_predict = reg.predict(X_test)\n",
    "    train_predict = reg.predict(X_train)\n",
    "    test_cm = confusion_matrix(Y_test , np.round(abs(test_predict)))\n",
    "    print(\"confusion_matrix for test dataset:\")\n",
    "    clf = SVC(random_state=0)\n",
    "    clf.fit(X_test, Y_test)\n",
    "    disp = ConfusionMatrixDisplay(confusion_matrix=test_cm, display_labels=clf.classes_)\n",
    "    disp.plot()\n",
    "    plt.show()\n",
    "    train_cm = confusion_matrix(Y_train , np.round(abs(train_predict)))\n",
    "    print(\"confusion_matrix for train dataset:\")\n",
    "    clf = SVC(random_state=0)\n",
    "    clf.fit(X_train, Y_train)\n",
    "    disp = ConfusionMatrixDisplay(confusion_matrix=train_cm, display_labels=clf.classes_)\n",
    "    disp.plot()\n",
    "    plt.show()\n",
    "    test_accuracy = (test_cm[0][0] + test_cm[1][1])/(test_cm[0][0]+ test_cm[0][1]+ test_cm[1][0]+ test_cm[1][1])*100\n",
    "    train_accuracy = (train_cm[0][0] + train_cm[1][1])/(train_cm[0][0]+ train_cm[0][1]+ train_cm[1][0]+ train_cm[1][1])*100\n",
    "    print(\"* accuracy of test dataset is:\", test_accuracy)\n",
    "    print(\"* accuracy of train dataset is:\", train_accuracy)\n",
    "    print(\"-------------------------------------------------\")\n",
    "\n",
    "decision_tree_method(6 , 12 , X_train , Y_train , X_test , Y_test)"
   ]
  },
  {
   "cell_type": "markdown",
   "id": "9a0b721a",
   "metadata": {},
   "source": [
    "<b>Confusion Matrix:</b> The diagonal elements represent the number of points for which the predicted label is equal to the true label, while off-diagonal elements are those that are mislabeled by the classifier. The higher the diagonal values of the confusion matrix the better, indicating many correct predictions.\n",
    "\n",
    "The figures show the confusion matrix with and without normalization by class support size (number of elements in each class). This kind of normalization can be interesting in case of class imbalance to have a more visual interpretation of which class is being misclassified."
   ]
  },
  {
   "cell_type": "markdown",
   "id": "129eebb7",
   "metadata": {},
   "source": [
    "* <b>max_depth</b> is maximum depth of the tree if we don't assign a value to it then nodes are expanded until all leaves are pure or until all leaves contain less than min_samples_split samples. It's for knowing until what point we should continue to produce nodes. The theoretical maximum depth a decision tree can achieve is one less than the number of training samples, but no algorithm will let you reach this point for obvious reasons, one big reason being overfitting.\n",
    "* <b>min_samples_split</b> is the minimum number of samples required to split an internal node while min_samples_leaf specifies the minimum number of samples required to be at a leaf node. For instance, if min_samples_split = 5 , and there are 7 samples at an internal node, then the split is allowed.. It's for determining the label at the end meaning that if the number of remaining samples in the node is less than this value we'll determine the label for that node and stop producing nodes. \n",
    "* <b>Overfitting</b> usually takes place when a model has an excessively complex structure and learns both the existing relations among data and noise. Such models often have bad generalization capabilities. Although they work well with training data, they usually yield poor performance with unseen (test) data."
   ]
  },
  {
   "cell_type": "code",
   "execution_count": null,
   "id": "dd688b5f",
   "metadata": {
    "scrolled": true
   },
   "outputs": [],
   "source": [
    "decision_tree_method(1 , 2 , X_train , Y_train , X_test , Y_test)\n",
    "decision_tree_method(3 , 2 , X_train , Y_train , X_test , Y_test)\n",
    "decision_tree_method(5 , 2 , X_train , Y_train , X_test , Y_test)\n",
    "decision_tree_method(7 , 2 , X_train , Y_train , X_test , Y_test)\n",
    "decision_tree_method(10 , 2 , X_train , Y_train , X_test , Y_test)"
   ]
  },
  {
   "cell_type": "code",
   "execution_count": null,
   "id": "8f2599bc",
   "metadata": {},
   "outputs": [],
   "source": [
    "decision_tree_method(5 , 5 , X_train , Y_train , X_test , Y_test)\n",
    "decision_tree_method(5 , 35 , X_train , Y_train , X_test , Y_test)\n",
    "decision_tree_method(5 , 135 , X_train , Y_train , X_test , Y_test)"
   ]
  },
  {
   "cell_type": "markdown",
   "id": "a18006ba",
   "metadata": {},
   "source": [
    "### Question 1:\n",
    "After reading some documents online I came to the understanding that 10% to 30% is a good percentage for test size and by experimenting different values I decided to use the value 20%."
   ]
  },
  {
   "cell_type": "code",
   "execution_count": null,
   "id": "96e0c201",
   "metadata": {},
   "outputs": [],
   "source": [
    "X_train_98, X_test_98, Y_train_98, Y_test_98 = train_test_split(X , Y , test_size = 0.02 , random_state = 42)\n",
    "decision_tree_method(5 , 12 , X_train_98 , Y_train_98 , X_test_98 , Y_test_98)"
   ]
  },
  {
   "cell_type": "code",
   "execution_count": null,
   "id": "81812c79",
   "metadata": {
    "scrolled": true
   },
   "outputs": [],
   "source": [
    "X_train_40, X_test_40, Y_train_40, Y_test_40 = train_test_split(X , Y , test_size = 0.60 , random_state = 42)\n",
    "decision_tree_method(5 , 12 , X_train_40 , Y_train_40 , X_test_40 , Y_test_40)"
   ]
  },
  {
   "cell_type": "markdown",
   "id": "d35423a2",
   "metadata": {},
   "source": [
    "On 98 percent model perform better on test. In 98 percent the train set is much bigger than test set this will result in overfitting since the model will understand everything about train set and it'll be complex. But in 40 percent the train set is smaller than test set this will result in underfitting since the model doesn't train really well and it's much simpler than the previous one.We can observe that in 40 percent train size the train results are better than test results meaning that model performs well on train set but not as good on test set. "
   ]
  },
  {
   "cell_type": "markdown",
   "id": "e9e397d3",
   "metadata": {},
   "source": [
    "### Question 2:\n",
    "If we use a large max_depth value it'll make the model more complex meaning that there's higher chance of overfitting and  will make the training process take a long time but if we use a small max_depth value it'll make the model simpler and will give us the result quickly meaning that there's higher chance of underfitting and here's the age old tradeoff between simplicity and consistency we have to check which value generates the best result for our model."
   ]
  },
  {
   "cell_type": "code",
   "execution_count": null,
   "id": "e54ba548",
   "metadata": {},
   "outputs": [],
   "source": [
    "def decision_tree_tuning(X_train , Y_train , X_test , Y_test):\n",
    "    train_acc = []\n",
    "    test_acc = []\n",
    "    best_max_depth = -1\n",
    "    best_min_samples_split = -1\n",
    "    max_acc = float(\"-inf\")\n",
    "    l = [2, 5, 6, 11, 12]\n",
    "    for j in l:\n",
    "        print(\"min_samples_split =\", j)\n",
    "        for i in list(range(1 , 40)):\n",
    "            DT = tree.DecisionTreeRegressor(max_depth = i , min_samples_split = j)\n",
    "            DT = DT.fit(X_train, Y_train)\n",
    "            test_predict = DT.predict(X_test)\n",
    "            train_predict = DT.predict(X_train)\n",
    "            train_acc.append(float((accuracy_score(Y_train, np.round(abs(train_predict)))) * 100))\n",
    "            test_acc.append(float((accuracy_score(Y_test, np.round(abs(test_predict)))) * 100))\n",
    "            if(float((accuracy_score(Y_test, np.round(abs(test_predict)))) * 100) > max_acc):\n",
    "                max_acc = float((accuracy_score(Y_test, np.round(abs(test_predict)))) * 100)\n",
    "                best_max_depth = i\n",
    "                best_min_samples_split = j\n",
    "        plt.plot(list(range(1, 40)), test_acc, label='Test')\n",
    "        plt.plot(list(range(1, 40)), train_acc, label='Train')\n",
    "        plt.ylabel('accuracy')\n",
    "        plt.xlabel('Depth')\n",
    "        plt.title('Decision Tree')\n",
    "        plt.legend()\n",
    "        plt.show()\n",
    "        test_acc.clear()\n",
    "        train_acc.clear()   \n",
    "    print(\"Best possible max_depth: \" + str(best_max_depth))\n",
    "    print(\"Best possible min_samples_split: \" + str(best_min_samples_split))\n",
    "    print(\"Best possible accuracy: \" + str(max_acc))\n",
    "\n",
    "print(\"test_size = 0.20\\n\")\n",
    "decision_tree_tuning(X_train , Y_train , X_test , Y_test)"
   ]
  },
  {
   "cell_type": "code",
   "execution_count": null,
   "id": "16d7515d",
   "metadata": {},
   "outputs": [],
   "source": [
    "print(\"test_size = 0.02\\n\")\n",
    "decision_tree_tuning(X_train_98 , Y_train_98 , X_test_98 , Y_test_98)"
   ]
  },
  {
   "cell_type": "code",
   "execution_count": null,
   "id": "7692a60b",
   "metadata": {},
   "outputs": [],
   "source": [
    "print(\"test_size = 0.60\\n\")\n",
    "decision_tree_tuning(X_train_40 , Y_train_40 , X_test_40 , Y_test_40)"
   ]
  },
  {
   "cell_type": "markdown",
   "id": "ae62030c",
   "metadata": {},
   "source": [
    "## Phase 3: Prediction using group learning\n",
    "Random Forest is one of the most popular and most powerful machine learning algorithms. It is a type of ensemble machine learning algorithm called Bootstrap Aggregation or bagging.\n",
    "* <b>bootstrap</b> method for estimating statistical quantities from samples. The Bootstrap Aggregation algorithm for creating multiple different models from a single training dataset. Whether bootstrap samples are used when building trees. If False, the whole dataset is used to build each tree.\n",
    "* <b>max_depth</b> is the maximum depth of the tree if the value is too high it can take a really long time to get the results and the model will be really complex also other issues like overfitting can happen.\n",
    "* <b>min_samples_split:</b> The minimum number of samples required to split an internal node\n",
    "* <b>n_estimators</b> is the number of trees in the forest and get results from all of them and finally determine the result based on them. Raising this value will result in larger number of trees so we can create a more robust aggregate model with less variance at the cost of a greater training time.\n",
    "* <b>max_samples:</b> If bootstrap is True, the number of samples to draw from X to train each base estimator.\n",
    "* <b>max_features</b> is the number of features to consider when looking for the best split meaning that it'll choose a portion of the features based on the set value. This was the game changer and decreased RMSE the most. A small value which means less features considered when splitting at each node will reduce the variance at the cost of higher individual tree bias. High value will obviously have inversed results."
   ]
  },
  {
   "cell_type": "code",
   "execution_count": null,
   "id": "17cfe90c",
   "metadata": {},
   "outputs": [],
   "source": [
    "from sklearn.ensemble import RandomForestRegressor\n",
    "def random_forest_method(best_depth ,min_split , X_train , Y_train , X_test , Y_test, _n_estimators, _max_samples, _max_features):\n",
    "    print(\"best_depth =\", best_depth, \"and min_samples_split =\", min_split, \"and n_estimators =\", _n_estimators, \"and max_samples =\", _max_samples, \"and max_features =\", _max_features )\n",
    "    reg = RandomForestRegressor(bootstrap = True, max_depth = best_depth , n_estimators = _n_estimators , max_samples = _max_samples, max_features = _max_features , min_samples_split = min_split)\n",
    "    reg = reg.fit(X_train, Y_train)\n",
    "    test_predict = reg.predict(X_test)\n",
    "    train_predict = reg.predict(X_train)\n",
    "    test_cm = confusion_matrix(Y_test , np.round(abs(test_predict)))\n",
    "    print(\"confusion_matrix for test:\", test_cm)\n",
    "    train_cm = confusion_matrix(Y_train , np.round(abs(train_predict)))\n",
    "    print(\"confusion_matrix for train:\", train_cm)\n",
    "    test_accuracy = (test_cm[0][0] + test_cm[1][1])/(test_cm[0][0]+ test_cm[0][1]+ test_cm[1][0]+ test_cm[1][1])*100\n",
    "    train_accuracy = (train_cm[0][0] + train_cm[1][1])/(train_cm[0][0]+ train_cm[0][1]+ train_cm[1][0]+ train_cm[1][1])*100\n",
    "    print(\"* accuracy of test dataset is:\", test_accuracy)\n",
    "    print(\"* accuracy of train dataset is:\", train_accuracy)\n",
    "    print(\"-------------------------------------------------\")\n",
    "\n",
    "random_forest_method(7, 10, X_train , Y_train , X_test , Y_test, 200, 5000, 0.4)\n",
    "random_forest_method(6, 10, X_train , Y_train , X_test , Y_test, 20, 5000, 0.4)\n",
    "random_forest_method(12, 10, X_train , Y_train , X_test , Y_test, 20, 5000, 0.4)\n",
    "random_forest_method(12, 10, X_train , Y_train , X_test , Y_test, 200, 5000, 0.4)"
   ]
  },
  {
   "cell_type": "code",
   "execution_count": null,
   "id": "f7458892",
   "metadata": {},
   "outputs": [],
   "source": [
    "def random_forest_tuning(X_train , Y_train , X_test , Y_test):\n",
    "    train_acc = []\n",
    "    test_acc = []\n",
    "    best_max_depth = -1\n",
    "    best_min_samples_split = -1\n",
    "    best_n_estimators = -1\n",
    "    best_max_features = -1\n",
    "    max_acc = float(\"-inf\")\n",
    "    l = [2, 5, 6, 11, 12]\n",
    "    ne = [10,20,200]\n",
    "    mf = [0.2, 0.4, 0.6]\n",
    "    for f in mf:\n",
    "        for k in ne:\n",
    "            for j in l:\n",
    "                print(\"min_samples_split =\", j, \"and n_estimators =\", k, \"and max_features =\", f)\n",
    "                for i in list(range(1 , 40)):\n",
    "                    RF = RandomForestRegressor(max_depth = i, min_samples_split = j , n_estimators = k , max_features = f)\n",
    "                    RF = RF.fit(X_train, Y_train)\n",
    "                    test_predict = RF.predict(X_test)\n",
    "                    train_predict = RF.predict(X_train)\n",
    "                    train_acc.append(float((accuracy_score(Y_train, np.round(abs(train_predict)))) * 100))\n",
    "                    test_acc.append(float((accuracy_score(Y_test, np.round(abs(test_predict)))) * 100))\n",
    "                    if(float((accuracy_score(Y_test, np.round(abs(test_predict)))) * 100) > max_acc):\n",
    "                        max_acc = float((accuracy_score(Y_test, np.round(abs(test_predict)))) * 100)\n",
    "                        best_max_depth = i\n",
    "                        best_min_samples_split = j\n",
    "                        best_n_estimators = k\n",
    "                        best_max_features = f\n",
    "                plt.plot(list(range(1, 40)), test_acc, label='Test')\n",
    "                plt.plot(list(range(1, 40)), train_acc, label='Train')\n",
    "                plt.ylabel('accuracy')\n",
    "                plt.xlabel('Depth')\n",
    "                plt.title('Random Forest')\n",
    "                plt.legend()\n",
    "                plt.show()\n",
    "                test_acc.clear()\n",
    "                train_acc.clear()   \n",
    "    print(\"Best possible max_depth: \" + str(best_max_depth))\n",
    "    print(\"Best possible min_samples_split: \" + str(best_min_samples_split))\n",
    "    print(\"Best possible n_estimators: \" + str(best_n_estimators))\n",
    "    print(\"Best possible max_features: \" + str(best_max_features))\n",
    "    print(\"Best possible accuracy: \" + str(max_acc))\n",
    "\n",
    "print(\"test_size = 0.20\\n\")\n",
    "random_forest_tuning(X_train , Y_train , X_test , Y_test)"
   ]
  },
  {
   "cell_type": "markdown",
   "id": "b4126cb1",
   "metadata": {},
   "source": [
    "Decision trees are very easy as compared to the random forest. A decision tree combines some decisions, whereas a random forest combines several decision trees. Thus, it is a long process, yet slow.\n",
    "Whereas, a decision tree is fast and operates easily on large data sets, especially the linear one. The random forest model needs rigorous training.\n",
    "It depends on your requirements. If you have less time to work on a model, you are bound to choose a decision tree. However, stability and reliable predictions are in the basket of random forests. \n",
    "\n",
    "<b>Bias:</b> is difference between the average prediction of our model and the correct value which we are trying to predict. Model with high bias pays very little attention to the training data and oversimplifies the model. It always leads to high error on training and test data. So when bias is high it'll mean that our model is simple so it'll result in underfitting\n",
    "\n",
    "<b>Variance:</b> is variability of model prediction for a given data point or a value which tells us spread of our data. Model with high variance pays a lot of attention to training data and does not generalize on the data which it hasn’t seen before. As a result, such models perform very well on training data but has high error rates on test data. So when variance is high it'll mean that model is too complex and also performs better on train set rather than test set so it'll result in overfitting\n",
    "\n",
    "From bias point of view since random forest gets info from several trees there's small chance of underfitting so it'll be better and perform better. Form variance point of view decision trees are prone to overfitting especially when a tree is particularly deep but random forest rarely overfits so in this case is better too so it'll perform better.\n",
    "\n",
    "All in all since random forest gets information from multiple trees and basically consults and take a look at each of the trees' results before making a decision it'll have better results. One way Random Forests reduce variance is by training on different samples of the data. A second way is by using a random subset of features that we used here in the project as well. In random forest if we use many trees in our forest, eventually many or all of our features will have been included. This inclusion of many features will help limit our error due to bias and error due to variance. The achieved results clearly show that random forest performs better."
   ]
  }
 ],
 "metadata": {
  "kernelspec": {
   "display_name": "Python 3",
   "language": "python",
   "name": "python3"
  },
  "language_info": {
   "codemirror_mode": {
    "name": "ipython",
    "version": 3
   },
   "file_extension": ".py",
   "mimetype": "text/x-python",
   "name": "python",
   "nbconvert_exporter": "python",
   "pygments_lexer": "ipython3",
   "version": "3.8.8"
  }
 },
 "nbformat": 4,
 "nbformat_minor": 5
}
